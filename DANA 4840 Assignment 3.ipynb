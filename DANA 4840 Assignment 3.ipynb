{
 "cells": [
  {
   "cell_type": "markdown",
   "metadata": {},
   "source": [
    "# SKIN CANCER MNIST: HAM10000 CLASSIFICATION USING K-MEANS\n"
   ]
  },
  {
   "cell_type": "markdown",
   "metadata": {},
   "source": [
    "## Assignment 1 - Data Exploration and Cleaning"
   ]
  },
  {
   "cell_type": "markdown",
   "metadata": {},
   "source": [
    "### Dataset"
   ]
  },
  {
   "cell_type": "markdown",
   "metadata": {},
   "source": [
    "Dataset consists of 10,015 images of skin lesions.  It is known as Human Against Machine with 10000 training images (HAM10000).  It was obtained from Kaggle, however the original dataset can be downloaded from here:\n",
    "https://dataverse.harvard.edu/dataset.xhtml?persistentId=doi:10.7910/DVN/DBW86T\n",
    "\n",
    "The HAM10000 dataset served as the training set for the ISIC 2018 challenge.  It is a well known dataset for training machine learning classification models.  \n",
    "\n",
    "Dataset consists of 3 files as follows: <br>\n",
    "HAM10000_images_part1.zip (5000 JPEG files) <br>\n",
    "HAM10000_images_part2.zip (5015 JPEG files) <br>\n",
    "HAM10000_images_metadata.csv\n",
    "\n",
    "there are also several supplementary files which are flattened image files: <br>\n",
    "hmnist_28_28_L.csv <br>\n",
    "hmnist_28_28_RGB.csv <br>\n",
    "hmnist_8_8_L.csv <br>\n",
    "hmnist_8_8_RGB.csv <br>\n",
    "\n",
    "The metadata file provides: <br>\n",
    "lesion_id - there are a total of 7470 unique lesions<br>\n",
    "image_id - there are a total of 10,015 unique images <br>\n",
    "dx - Diagnosis - there are 7 classes of skin lesions (ground truth) in the dataset: Actinic keratoses and intraepithelial carcinoma / Bowen's disease (akiec), basal cell carcinoma (bcc), benign keratosis-like lesions (solar lentigines / seborrheic keratoses and lichen-planus like keratoses, bkl), dermatofibroma (df), melanoma (mel), melanocytic nevi (nv) and vascular lesions (angiomas, angiokeratomas, pyogenic granulomas and hemorrhage, vasc). <br>\n",
    "dx_type - histopathology (histo), follow-up examination (followup), expert consensus (consensus), or confirmation by in-vivo confocal microscopy (confocal) <br>\n",
    "age - numerical range from 0-85 </br>\n",
    "sex - categorical variable male/female/other <br>\n",
    "localization - categorical variable describing part of the body where lesion was located\n"
   ]
  },
  {
   "cell_type": "markdown",
   "metadata": {},
   "source": [
    "### Initial Data Exploration\n",
    "\n",
    "Lets do some preliminary exploration of the data.  Below, we first imported various Python libraries that would allow us to transform the data and get some basic statistics.  Then we mported one of the flattened files just to look at the data.  We displayed only the first 5 rows of the dataframe.  We note that the last column provides the label - ground truth."
   ]
  },
  {
   "cell_type": "code",
   "execution_count": 133,
   "metadata": {},
   "outputs": [
    {
     "data": {
      "text/html": [
       "<div>\n",
       "<style scoped>\n",
       "    .dataframe tbody tr th:only-of-type {\n",
       "        vertical-align: middle;\n",
       "    }\n",
       "\n",
       "    .dataframe tbody tr th {\n",
       "        vertical-align: top;\n",
       "    }\n",
       "\n",
       "    .dataframe thead th {\n",
       "        text-align: right;\n",
       "    }\n",
       "</style>\n",
       "<table border=\"1\" class=\"dataframe\">\n",
       "  <thead>\n",
       "    <tr style=\"text-align: right;\">\n",
       "      <th></th>\n",
       "      <th>pixel0000</th>\n",
       "      <th>pixel0001</th>\n",
       "      <th>pixel0002</th>\n",
       "      <th>pixel0003</th>\n",
       "      <th>pixel0004</th>\n",
       "      <th>pixel0005</th>\n",
       "      <th>pixel0006</th>\n",
       "      <th>pixel0007</th>\n",
       "      <th>pixel0008</th>\n",
       "      <th>pixel0009</th>\n",
       "      <th>...</th>\n",
       "      <th>pixel0775</th>\n",
       "      <th>pixel0776</th>\n",
       "      <th>pixel0777</th>\n",
       "      <th>pixel0778</th>\n",
       "      <th>pixel0779</th>\n",
       "      <th>pixel0780</th>\n",
       "      <th>pixel0781</th>\n",
       "      <th>pixel0782</th>\n",
       "      <th>pixel0783</th>\n",
       "      <th>label</th>\n",
       "    </tr>\n",
       "  </thead>\n",
       "  <tbody>\n",
       "    <tr>\n",
       "      <th>0</th>\n",
       "      <td>169</td>\n",
       "      <td>171</td>\n",
       "      <td>170</td>\n",
       "      <td>177</td>\n",
       "      <td>181</td>\n",
       "      <td>182</td>\n",
       "      <td>181</td>\n",
       "      <td>185</td>\n",
       "      <td>194</td>\n",
       "      <td>192</td>\n",
       "      <td>...</td>\n",
       "      <td>184</td>\n",
       "      <td>186</td>\n",
       "      <td>185</td>\n",
       "      <td>180</td>\n",
       "      <td>157</td>\n",
       "      <td>140</td>\n",
       "      <td>140</td>\n",
       "      <td>159</td>\n",
       "      <td>165</td>\n",
       "      <td>2</td>\n",
       "    </tr>\n",
       "    <tr>\n",
       "      <th>1</th>\n",
       "      <td>19</td>\n",
       "      <td>57</td>\n",
       "      <td>105</td>\n",
       "      <td>140</td>\n",
       "      <td>149</td>\n",
       "      <td>148</td>\n",
       "      <td>144</td>\n",
       "      <td>155</td>\n",
       "      <td>170</td>\n",
       "      <td>170</td>\n",
       "      <td>...</td>\n",
       "      <td>172</td>\n",
       "      <td>175</td>\n",
       "      <td>160</td>\n",
       "      <td>144</td>\n",
       "      <td>114</td>\n",
       "      <td>89</td>\n",
       "      <td>47</td>\n",
       "      <td>18</td>\n",
       "      <td>18</td>\n",
       "      <td>2</td>\n",
       "    </tr>\n",
       "    <tr>\n",
       "      <th>2</th>\n",
       "      <td>155</td>\n",
       "      <td>163</td>\n",
       "      <td>161</td>\n",
       "      <td>167</td>\n",
       "      <td>167</td>\n",
       "      <td>172</td>\n",
       "      <td>155</td>\n",
       "      <td>152</td>\n",
       "      <td>165</td>\n",
       "      <td>175</td>\n",
       "      <td>...</td>\n",
       "      <td>163</td>\n",
       "      <td>178</td>\n",
       "      <td>157</td>\n",
       "      <td>166</td>\n",
       "      <td>167</td>\n",
       "      <td>148</td>\n",
       "      <td>141</td>\n",
       "      <td>136</td>\n",
       "      <td>115</td>\n",
       "      <td>2</td>\n",
       "    </tr>\n",
       "    <tr>\n",
       "      <th>3</th>\n",
       "      <td>25</td>\n",
       "      <td>71</td>\n",
       "      <td>116</td>\n",
       "      <td>139</td>\n",
       "      <td>136</td>\n",
       "      <td>153</td>\n",
       "      <td>148</td>\n",
       "      <td>161</td>\n",
       "      <td>172</td>\n",
       "      <td>162</td>\n",
       "      <td>...</td>\n",
       "      <td>125</td>\n",
       "      <td>135</td>\n",
       "      <td>138</td>\n",
       "      <td>137</td>\n",
       "      <td>111</td>\n",
       "      <td>71</td>\n",
       "      <td>32</td>\n",
       "      <td>16</td>\n",
       "      <td>16</td>\n",
       "      <td>2</td>\n",
       "    </tr>\n",
       "    <tr>\n",
       "      <th>4</th>\n",
       "      <td>129</td>\n",
       "      <td>162</td>\n",
       "      <td>181</td>\n",
       "      <td>196</td>\n",
       "      <td>205</td>\n",
       "      <td>208</td>\n",
       "      <td>205</td>\n",
       "      <td>213</td>\n",
       "      <td>225</td>\n",
       "      <td>224</td>\n",
       "      <td>...</td>\n",
       "      <td>210</td>\n",
       "      <td>197</td>\n",
       "      <td>172</td>\n",
       "      <td>190</td>\n",
       "      <td>195</td>\n",
       "      <td>193</td>\n",
       "      <td>181</td>\n",
       "      <td>147</td>\n",
       "      <td>88</td>\n",
       "      <td>2</td>\n",
       "    </tr>\n",
       "  </tbody>\n",
       "</table>\n",
       "<p>5 rows × 785 columns</p>\n",
       "</div>"
      ],
      "text/plain": [
       "   pixel0000  pixel0001  pixel0002  pixel0003  pixel0004  pixel0005  \\\n",
       "0        169        171        170        177        181        182   \n",
       "1         19         57        105        140        149        148   \n",
       "2        155        163        161        167        167        172   \n",
       "3         25         71        116        139        136        153   \n",
       "4        129        162        181        196        205        208   \n",
       "\n",
       "   pixel0006  pixel0007  pixel0008  pixel0009  ...  pixel0775  pixel0776  \\\n",
       "0        181        185        194        192  ...        184        186   \n",
       "1        144        155        170        170  ...        172        175   \n",
       "2        155        152        165        175  ...        163        178   \n",
       "3        148        161        172        162  ...        125        135   \n",
       "4        205        213        225        224  ...        210        197   \n",
       "\n",
       "   pixel0777  pixel0778  pixel0779  pixel0780  pixel0781  pixel0782  \\\n",
       "0        185        180        157        140        140        159   \n",
       "1        160        144        114         89         47         18   \n",
       "2        157        166        167        148        141        136   \n",
       "3        138        137        111         71         32         16   \n",
       "4        172        190        195        193        181        147   \n",
       "\n",
       "   pixel0783  label  \n",
       "0        165      2  \n",
       "1         18      2  \n",
       "2        115      2  \n",
       "3         16      2  \n",
       "4         88      2  \n",
       "\n",
       "[5 rows x 785 columns]"
      ]
     },
     "execution_count": 133,
     "metadata": {},
     "output_type": "execute_result"
    }
   ],
   "source": [
    "#Libraries \n",
    "import pandas as pd\n",
    "import numpy as np\n",
    "from matplotlib import pyplot as plt\n",
    "from scipy.stats import kurtosis\n",
    "from scipy.stats import skew\n",
    "import statistics\n",
    "import glob\n",
    "import cv2\n",
    "import csv\n",
    "import math\n",
    "import os\n",
    "import string\n",
    "from skimage.color import rgb2gray\n",
    "from PIL import Image\n",
    "from skimage.feature import greycomatrix, greycoprops\n",
    "\n",
    "\n",
    "\n",
    "#import dataset - flattened 28 x 28 grayscale images\n",
    "df=pd.read_csv('hmnist_28_28_L.csv')\n",
    "df.head(5)"
   ]
  },
  {
   "cell_type": "code",
   "execution_count": 84,
   "metadata": {},
   "outputs": [
    {
     "data": {
      "text/html": [
       "<div>\n",
       "<style scoped>\n",
       "    .dataframe tbody tr th:only-of-type {\n",
       "        vertical-align: middle;\n",
       "    }\n",
       "\n",
       "    .dataframe tbody tr th {\n",
       "        vertical-align: top;\n",
       "    }\n",
       "\n",
       "    .dataframe thead th {\n",
       "        text-align: right;\n",
       "    }\n",
       "</style>\n",
       "<table border=\"1\" class=\"dataframe\">\n",
       "  <thead>\n",
       "    <tr style=\"text-align: right;\">\n",
       "      <th></th>\n",
       "      <th>pixel0000</th>\n",
       "      <th>pixel0001</th>\n",
       "      <th>pixel0002</th>\n",
       "      <th>pixel0003</th>\n",
       "      <th>pixel0004</th>\n",
       "      <th>pixel0005</th>\n",
       "      <th>pixel0006</th>\n",
       "      <th>pixel0007</th>\n",
       "      <th>pixel0008</th>\n",
       "      <th>pixel0009</th>\n",
       "      <th>...</th>\n",
       "      <th>pixel0774</th>\n",
       "      <th>pixel0775</th>\n",
       "      <th>pixel0776</th>\n",
       "      <th>pixel0777</th>\n",
       "      <th>pixel0778</th>\n",
       "      <th>pixel0779</th>\n",
       "      <th>pixel0780</th>\n",
       "      <th>pixel0781</th>\n",
       "      <th>pixel0782</th>\n",
       "      <th>pixel0783</th>\n",
       "    </tr>\n",
       "    <tr>\n",
       "      <th>label</th>\n",
       "      <th></th>\n",
       "      <th></th>\n",
       "      <th></th>\n",
       "      <th></th>\n",
       "      <th></th>\n",
       "      <th></th>\n",
       "      <th></th>\n",
       "      <th></th>\n",
       "      <th></th>\n",
       "      <th></th>\n",
       "      <th></th>\n",
       "      <th></th>\n",
       "      <th></th>\n",
       "      <th></th>\n",
       "      <th></th>\n",
       "      <th></th>\n",
       "      <th></th>\n",
       "      <th></th>\n",
       "      <th></th>\n",
       "      <th></th>\n",
       "      <th></th>\n",
       "    </tr>\n",
       "  </thead>\n",
       "  <tbody>\n",
       "    <tr>\n",
       "      <th>0</th>\n",
       "      <td>327</td>\n",
       "      <td>327</td>\n",
       "      <td>327</td>\n",
       "      <td>327</td>\n",
       "      <td>327</td>\n",
       "      <td>327</td>\n",
       "      <td>327</td>\n",
       "      <td>327</td>\n",
       "      <td>327</td>\n",
       "      <td>327</td>\n",
       "      <td>...</td>\n",
       "      <td>327</td>\n",
       "      <td>327</td>\n",
       "      <td>327</td>\n",
       "      <td>327</td>\n",
       "      <td>327</td>\n",
       "      <td>327</td>\n",
       "      <td>327</td>\n",
       "      <td>327</td>\n",
       "      <td>327</td>\n",
       "      <td>327</td>\n",
       "    </tr>\n",
       "    <tr>\n",
       "      <th>1</th>\n",
       "      <td>514</td>\n",
       "      <td>514</td>\n",
       "      <td>514</td>\n",
       "      <td>514</td>\n",
       "      <td>514</td>\n",
       "      <td>514</td>\n",
       "      <td>514</td>\n",
       "      <td>514</td>\n",
       "      <td>514</td>\n",
       "      <td>514</td>\n",
       "      <td>...</td>\n",
       "      <td>514</td>\n",
       "      <td>514</td>\n",
       "      <td>514</td>\n",
       "      <td>514</td>\n",
       "      <td>514</td>\n",
       "      <td>514</td>\n",
       "      <td>514</td>\n",
       "      <td>514</td>\n",
       "      <td>514</td>\n",
       "      <td>514</td>\n",
       "    </tr>\n",
       "    <tr>\n",
       "      <th>2</th>\n",
       "      <td>1099</td>\n",
       "      <td>1099</td>\n",
       "      <td>1099</td>\n",
       "      <td>1099</td>\n",
       "      <td>1099</td>\n",
       "      <td>1099</td>\n",
       "      <td>1099</td>\n",
       "      <td>1099</td>\n",
       "      <td>1099</td>\n",
       "      <td>1099</td>\n",
       "      <td>...</td>\n",
       "      <td>1099</td>\n",
       "      <td>1099</td>\n",
       "      <td>1099</td>\n",
       "      <td>1099</td>\n",
       "      <td>1099</td>\n",
       "      <td>1099</td>\n",
       "      <td>1099</td>\n",
       "      <td>1099</td>\n",
       "      <td>1099</td>\n",
       "      <td>1099</td>\n",
       "    </tr>\n",
       "    <tr>\n",
       "      <th>3</th>\n",
       "      <td>115</td>\n",
       "      <td>115</td>\n",
       "      <td>115</td>\n",
       "      <td>115</td>\n",
       "      <td>115</td>\n",
       "      <td>115</td>\n",
       "      <td>115</td>\n",
       "      <td>115</td>\n",
       "      <td>115</td>\n",
       "      <td>115</td>\n",
       "      <td>...</td>\n",
       "      <td>115</td>\n",
       "      <td>115</td>\n",
       "      <td>115</td>\n",
       "      <td>115</td>\n",
       "      <td>115</td>\n",
       "      <td>115</td>\n",
       "      <td>115</td>\n",
       "      <td>115</td>\n",
       "      <td>115</td>\n",
       "      <td>115</td>\n",
       "    </tr>\n",
       "    <tr>\n",
       "      <th>4</th>\n",
       "      <td>6705</td>\n",
       "      <td>6705</td>\n",
       "      <td>6705</td>\n",
       "      <td>6705</td>\n",
       "      <td>6705</td>\n",
       "      <td>6705</td>\n",
       "      <td>6705</td>\n",
       "      <td>6705</td>\n",
       "      <td>6705</td>\n",
       "      <td>6705</td>\n",
       "      <td>...</td>\n",
       "      <td>6705</td>\n",
       "      <td>6705</td>\n",
       "      <td>6705</td>\n",
       "      <td>6705</td>\n",
       "      <td>6705</td>\n",
       "      <td>6705</td>\n",
       "      <td>6705</td>\n",
       "      <td>6705</td>\n",
       "      <td>6705</td>\n",
       "      <td>6705</td>\n",
       "    </tr>\n",
       "    <tr>\n",
       "      <th>5</th>\n",
       "      <td>142</td>\n",
       "      <td>142</td>\n",
       "      <td>142</td>\n",
       "      <td>142</td>\n",
       "      <td>142</td>\n",
       "      <td>142</td>\n",
       "      <td>142</td>\n",
       "      <td>142</td>\n",
       "      <td>142</td>\n",
       "      <td>142</td>\n",
       "      <td>...</td>\n",
       "      <td>142</td>\n",
       "      <td>142</td>\n",
       "      <td>142</td>\n",
       "      <td>142</td>\n",
       "      <td>142</td>\n",
       "      <td>142</td>\n",
       "      <td>142</td>\n",
       "      <td>142</td>\n",
       "      <td>142</td>\n",
       "      <td>142</td>\n",
       "    </tr>\n",
       "    <tr>\n",
       "      <th>6</th>\n",
       "      <td>1113</td>\n",
       "      <td>1113</td>\n",
       "      <td>1113</td>\n",
       "      <td>1113</td>\n",
       "      <td>1113</td>\n",
       "      <td>1113</td>\n",
       "      <td>1113</td>\n",
       "      <td>1113</td>\n",
       "      <td>1113</td>\n",
       "      <td>1113</td>\n",
       "      <td>...</td>\n",
       "      <td>1113</td>\n",
       "      <td>1113</td>\n",
       "      <td>1113</td>\n",
       "      <td>1113</td>\n",
       "      <td>1113</td>\n",
       "      <td>1113</td>\n",
       "      <td>1113</td>\n",
       "      <td>1113</td>\n",
       "      <td>1113</td>\n",
       "      <td>1113</td>\n",
       "    </tr>\n",
       "  </tbody>\n",
       "</table>\n",
       "<p>7 rows × 784 columns</p>\n",
       "</div>"
      ],
      "text/plain": [
       "       pixel0000  pixel0001  pixel0002  pixel0003  pixel0004  pixel0005  \\\n",
       "label                                                                     \n",
       "0            327        327        327        327        327        327   \n",
       "1            514        514        514        514        514        514   \n",
       "2           1099       1099       1099       1099       1099       1099   \n",
       "3            115        115        115        115        115        115   \n",
       "4           6705       6705       6705       6705       6705       6705   \n",
       "5            142        142        142        142        142        142   \n",
       "6           1113       1113       1113       1113       1113       1113   \n",
       "\n",
       "       pixel0006  pixel0007  pixel0008  pixel0009  ...  pixel0774  pixel0775  \\\n",
       "label                                              ...                         \n",
       "0            327        327        327        327  ...        327        327   \n",
       "1            514        514        514        514  ...        514        514   \n",
       "2           1099       1099       1099       1099  ...       1099       1099   \n",
       "3            115        115        115        115  ...        115        115   \n",
       "4           6705       6705       6705       6705  ...       6705       6705   \n",
       "5            142        142        142        142  ...        142        142   \n",
       "6           1113       1113       1113       1113  ...       1113       1113   \n",
       "\n",
       "       pixel0776  pixel0777  pixel0778  pixel0779  pixel0780  pixel0781  \\\n",
       "label                                                                     \n",
       "0            327        327        327        327        327        327   \n",
       "1            514        514        514        514        514        514   \n",
       "2           1099       1099       1099       1099       1099       1099   \n",
       "3            115        115        115        115        115        115   \n",
       "4           6705       6705       6705       6705       6705       6705   \n",
       "5            142        142        142        142        142        142   \n",
       "6           1113       1113       1113       1113       1113       1113   \n",
       "\n",
       "       pixel0782  pixel0783  \n",
       "label                        \n",
       "0            327        327  \n",
       "1            514        514  \n",
       "2           1099       1099  \n",
       "3            115        115  \n",
       "4           6705       6705  \n",
       "5            142        142  \n",
       "6           1113       1113  \n",
       "\n",
       "[7 rows x 784 columns]"
      ]
     },
     "execution_count": 84,
     "metadata": {},
     "output_type": "execute_result"
    }
   ],
   "source": [
    "#group by lable column to determine how many images are there for each diagnosis\n",
    "df.groupby('label').count()\n"
   ]
  },
  {
   "cell_type": "markdown",
   "metadata": {},
   "source": [
    "As we can see from the above, the dataset is not very balanced, the number of images varies greatly between different categories of diagnosis.  It was therefore decided to drop the under-respresented types of lesions and only focus on 4 categories - 2 malignant and 2 benign. Below, we split the data based on the diagnosis into separate dataframes."
   ]
  },
  {
   "cell_type": "code",
   "execution_count": 2,
   "metadata": {},
   "outputs": [],
   "source": [
    "#split dataset into 4 different dataframes based on the diagnosis\n",
    "df_carcinoma=df[df['label']==1]\n",
    "df_bkl=df[df['label']==2]\n",
    "df_mn=df[df['label']==4]\n",
    "df_melanoma=df[df['label']==6]"
   ]
  },
  {
   "cell_type": "markdown",
   "metadata": {},
   "source": [
    "## Basal Cell Carcinoma"
   ]
  },
  {
   "cell_type": "code",
   "execution_count": 3,
   "metadata": {},
   "outputs": [
    {
     "data": {
      "text/html": [
       "<div>\n",
       "<style scoped>\n",
       "    .dataframe tbody tr th:only-of-type {\n",
       "        vertical-align: middle;\n",
       "    }\n",
       "\n",
       "    .dataframe tbody tr th {\n",
       "        vertical-align: top;\n",
       "    }\n",
       "\n",
       "    .dataframe thead th {\n",
       "        text-align: right;\n",
       "    }\n",
       "</style>\n",
       "<table border=\"1\" class=\"dataframe\">\n",
       "  <thead>\n",
       "    <tr style=\"text-align: right;\">\n",
       "      <th></th>\n",
       "      <th>pixel0000</th>\n",
       "      <th>pixel0001</th>\n",
       "      <th>pixel0002</th>\n",
       "      <th>pixel0003</th>\n",
       "      <th>pixel0004</th>\n",
       "      <th>pixel0005</th>\n",
       "      <th>pixel0006</th>\n",
       "      <th>pixel0007</th>\n",
       "      <th>pixel0008</th>\n",
       "      <th>pixel0009</th>\n",
       "      <th>...</th>\n",
       "      <th>pixel0775</th>\n",
       "      <th>pixel0776</th>\n",
       "      <th>pixel0777</th>\n",
       "      <th>pixel0778</th>\n",
       "      <th>pixel0779</th>\n",
       "      <th>pixel0780</th>\n",
       "      <th>pixel0781</th>\n",
       "      <th>pixel0782</th>\n",
       "      <th>pixel0783</th>\n",
       "      <th>label</th>\n",
       "    </tr>\n",
       "  </thead>\n",
       "  <tbody>\n",
       "    <tr>\n",
       "      <th>count</th>\n",
       "      <td>514.000000</td>\n",
       "      <td>514.000000</td>\n",
       "      <td>514.000000</td>\n",
       "      <td>514.000000</td>\n",
       "      <td>514.000000</td>\n",
       "      <td>514.000000</td>\n",
       "      <td>514.000000</td>\n",
       "      <td>514.000000</td>\n",
       "      <td>514.000000</td>\n",
       "      <td>514.000000</td>\n",
       "      <td>...</td>\n",
       "      <td>514.000000</td>\n",
       "      <td>514.000000</td>\n",
       "      <td>514.000000</td>\n",
       "      <td>514.000000</td>\n",
       "      <td>514.000000</td>\n",
       "      <td>514.000000</td>\n",
       "      <td>514.000000</td>\n",
       "      <td>514.000000</td>\n",
       "      <td>514.000000</td>\n",
       "      <td>514.0</td>\n",
       "    </tr>\n",
       "    <tr>\n",
       "      <th>mean</th>\n",
       "      <td>142.474708</td>\n",
       "      <td>151.447471</td>\n",
       "      <td>159.025292</td>\n",
       "      <td>163.750973</td>\n",
       "      <td>166.478599</td>\n",
       "      <td>169.208171</td>\n",
       "      <td>171.628405</td>\n",
       "      <td>173.856031</td>\n",
       "      <td>174.651751</td>\n",
       "      <td>175.268482</td>\n",
       "      <td>...</td>\n",
       "      <td>170.772374</td>\n",
       "      <td>169.132296</td>\n",
       "      <td>166.912451</td>\n",
       "      <td>164.272374</td>\n",
       "      <td>161.077821</td>\n",
       "      <td>156.429961</td>\n",
       "      <td>149.571984</td>\n",
       "      <td>140.449416</td>\n",
       "      <td>131.920233</td>\n",
       "      <td>1.0</td>\n",
       "    </tr>\n",
       "    <tr>\n",
       "      <th>std</th>\n",
       "      <td>49.722116</td>\n",
       "      <td>42.059854</td>\n",
       "      <td>35.281676</td>\n",
       "      <td>30.729916</td>\n",
       "      <td>27.837396</td>\n",
       "      <td>25.152429</td>\n",
       "      <td>23.285332</td>\n",
       "      <td>22.207481</td>\n",
       "      <td>20.959381</td>\n",
       "      <td>20.898667</td>\n",
       "      <td>...</td>\n",
       "      <td>24.884386</td>\n",
       "      <td>25.004054</td>\n",
       "      <td>25.544482</td>\n",
       "      <td>27.294219</td>\n",
       "      <td>30.076863</td>\n",
       "      <td>35.087248</td>\n",
       "      <td>41.748617</td>\n",
       "      <td>49.073625</td>\n",
       "      <td>55.320645</td>\n",
       "      <td>0.0</td>\n",
       "    </tr>\n",
       "    <tr>\n",
       "      <th>min</th>\n",
       "      <td>0.000000</td>\n",
       "      <td>0.000000</td>\n",
       "      <td>2.000000</td>\n",
       "      <td>6.000000</td>\n",
       "      <td>12.000000</td>\n",
       "      <td>46.000000</td>\n",
       "      <td>80.000000</td>\n",
       "      <td>81.000000</td>\n",
       "      <td>97.000000</td>\n",
       "      <td>95.000000</td>\n",
       "      <td>...</td>\n",
       "      <td>12.000000</td>\n",
       "      <td>19.000000</td>\n",
       "      <td>51.000000</td>\n",
       "      <td>40.000000</td>\n",
       "      <td>24.000000</td>\n",
       "      <td>20.000000</td>\n",
       "      <td>6.000000</td>\n",
       "      <td>2.000000</td>\n",
       "      <td>0.000000</td>\n",
       "      <td>1.0</td>\n",
       "    </tr>\n",
       "    <tr>\n",
       "      <th>25%</th>\n",
       "      <td>124.000000</td>\n",
       "      <td>135.000000</td>\n",
       "      <td>145.000000</td>\n",
       "      <td>149.000000</td>\n",
       "      <td>152.000000</td>\n",
       "      <td>155.250000</td>\n",
       "      <td>158.250000</td>\n",
       "      <td>161.000000</td>\n",
       "      <td>163.000000</td>\n",
       "      <td>162.250000</td>\n",
       "      <td>...</td>\n",
       "      <td>157.000000</td>\n",
       "      <td>155.250000</td>\n",
       "      <td>154.000000</td>\n",
       "      <td>147.000000</td>\n",
       "      <td>146.000000</td>\n",
       "      <td>142.000000</td>\n",
       "      <td>134.250000</td>\n",
       "      <td>124.250000</td>\n",
       "      <td>113.000000</td>\n",
       "      <td>1.0</td>\n",
       "    </tr>\n",
       "    <tr>\n",
       "      <th>50%</th>\n",
       "      <td>157.000000</td>\n",
       "      <td>161.000000</td>\n",
       "      <td>165.000000</td>\n",
       "      <td>168.000000</td>\n",
       "      <td>171.000000</td>\n",
       "      <td>173.000000</td>\n",
       "      <td>174.000000</td>\n",
       "      <td>175.000000</td>\n",
       "      <td>176.000000</td>\n",
       "      <td>176.000000</td>\n",
       "      <td>...</td>\n",
       "      <td>173.000000</td>\n",
       "      <td>172.000000</td>\n",
       "      <td>171.000000</td>\n",
       "      <td>169.000000</td>\n",
       "      <td>166.000000</td>\n",
       "      <td>164.000000</td>\n",
       "      <td>159.000000</td>\n",
       "      <td>152.500000</td>\n",
       "      <td>148.000000</td>\n",
       "      <td>1.0</td>\n",
       "    </tr>\n",
       "    <tr>\n",
       "      <th>75%</th>\n",
       "      <td>176.000000</td>\n",
       "      <td>179.000000</td>\n",
       "      <td>182.000000</td>\n",
       "      <td>183.000000</td>\n",
       "      <td>185.000000</td>\n",
       "      <td>187.000000</td>\n",
       "      <td>187.000000</td>\n",
       "      <td>189.000000</td>\n",
       "      <td>189.000000</td>\n",
       "      <td>190.000000</td>\n",
       "      <td>...</td>\n",
       "      <td>187.750000</td>\n",
       "      <td>185.750000</td>\n",
       "      <td>183.000000</td>\n",
       "      <td>182.000000</td>\n",
       "      <td>181.000000</td>\n",
       "      <td>179.000000</td>\n",
       "      <td>176.750000</td>\n",
       "      <td>173.000000</td>\n",
       "      <td>170.000000</td>\n",
       "      <td>1.0</td>\n",
       "    </tr>\n",
       "    <tr>\n",
       "      <th>max</th>\n",
       "      <td>233.000000</td>\n",
       "      <td>230.000000</td>\n",
       "      <td>232.000000</td>\n",
       "      <td>232.000000</td>\n",
       "      <td>230.000000</td>\n",
       "      <td>233.000000</td>\n",
       "      <td>234.000000</td>\n",
       "      <td>234.000000</td>\n",
       "      <td>232.000000</td>\n",
       "      <td>235.000000</td>\n",
       "      <td>...</td>\n",
       "      <td>232.000000</td>\n",
       "      <td>227.000000</td>\n",
       "      <td>224.000000</td>\n",
       "      <td>228.000000</td>\n",
       "      <td>224.000000</td>\n",
       "      <td>222.000000</td>\n",
       "      <td>227.000000</td>\n",
       "      <td>223.000000</td>\n",
       "      <td>219.000000</td>\n",
       "      <td>1.0</td>\n",
       "    </tr>\n",
       "  </tbody>\n",
       "</table>\n",
       "<p>8 rows × 785 columns</p>\n",
       "</div>"
      ],
      "text/plain": [
       "        pixel0000   pixel0001   pixel0002   pixel0003   pixel0004   pixel0005  \\\n",
       "count  514.000000  514.000000  514.000000  514.000000  514.000000  514.000000   \n",
       "mean   142.474708  151.447471  159.025292  163.750973  166.478599  169.208171   \n",
       "std     49.722116   42.059854   35.281676   30.729916   27.837396   25.152429   \n",
       "min      0.000000    0.000000    2.000000    6.000000   12.000000   46.000000   \n",
       "25%    124.000000  135.000000  145.000000  149.000000  152.000000  155.250000   \n",
       "50%    157.000000  161.000000  165.000000  168.000000  171.000000  173.000000   \n",
       "75%    176.000000  179.000000  182.000000  183.000000  185.000000  187.000000   \n",
       "max    233.000000  230.000000  232.000000  232.000000  230.000000  233.000000   \n",
       "\n",
       "        pixel0006   pixel0007   pixel0008   pixel0009  ...   pixel0775  \\\n",
       "count  514.000000  514.000000  514.000000  514.000000  ...  514.000000   \n",
       "mean   171.628405  173.856031  174.651751  175.268482  ...  170.772374   \n",
       "std     23.285332   22.207481   20.959381   20.898667  ...   24.884386   \n",
       "min     80.000000   81.000000   97.000000   95.000000  ...   12.000000   \n",
       "25%    158.250000  161.000000  163.000000  162.250000  ...  157.000000   \n",
       "50%    174.000000  175.000000  176.000000  176.000000  ...  173.000000   \n",
       "75%    187.000000  189.000000  189.000000  190.000000  ...  187.750000   \n",
       "max    234.000000  234.000000  232.000000  235.000000  ...  232.000000   \n",
       "\n",
       "        pixel0776   pixel0777   pixel0778   pixel0779   pixel0780   pixel0781  \\\n",
       "count  514.000000  514.000000  514.000000  514.000000  514.000000  514.000000   \n",
       "mean   169.132296  166.912451  164.272374  161.077821  156.429961  149.571984   \n",
       "std     25.004054   25.544482   27.294219   30.076863   35.087248   41.748617   \n",
       "min     19.000000   51.000000   40.000000   24.000000   20.000000    6.000000   \n",
       "25%    155.250000  154.000000  147.000000  146.000000  142.000000  134.250000   \n",
       "50%    172.000000  171.000000  169.000000  166.000000  164.000000  159.000000   \n",
       "75%    185.750000  183.000000  182.000000  181.000000  179.000000  176.750000   \n",
       "max    227.000000  224.000000  228.000000  224.000000  222.000000  227.000000   \n",
       "\n",
       "        pixel0782   pixel0783  label  \n",
       "count  514.000000  514.000000  514.0  \n",
       "mean   140.449416  131.920233    1.0  \n",
       "std     49.073625   55.320645    0.0  \n",
       "min      2.000000    0.000000    1.0  \n",
       "25%    124.250000  113.000000    1.0  \n",
       "50%    152.500000  148.000000    1.0  \n",
       "75%    173.000000  170.000000    1.0  \n",
       "max    223.000000  219.000000    1.0  \n",
       "\n",
       "[8 rows x 785 columns]"
      ]
     },
     "execution_count": 3,
     "metadata": {},
     "output_type": "execute_result"
    }
   ],
   "source": [
    "# Basic Statistics \n",
    "df_carcinoma.describe()"
   ]
  },
  {
   "cell_type": "code",
   "execution_count": 4,
   "metadata": {},
   "outputs": [
    {
     "data": {
      "text/plain": [
       "pixel0000    142.474708\n",
       "pixel0001    151.447471\n",
       "pixel0002    159.025292\n",
       "pixel0003    163.750973\n",
       "pixel0004    166.478599\n",
       "                ...    \n",
       "pixel0780    156.429961\n",
       "pixel0781    149.571984\n",
       "pixel0782    140.449416\n",
       "pixel0783    131.920233\n",
       "label          1.000000\n",
       "Length: 785, dtype: float64"
      ]
     },
     "execution_count": 4,
     "metadata": {},
     "output_type": "execute_result"
    }
   ],
   "source": [
    "#pick up the means for each pixel\n",
    "av_carc=df_carcinoma.mean(axis=0)\n",
    "av_carc"
   ]
  },
  {
   "cell_type": "code",
   "execution_count": 5,
   "metadata": {},
   "outputs": [
    {
     "data": {
      "text/plain": [
       "pixel0000    142.474708\n",
       "pixel0001    151.447471\n",
       "pixel0002    159.025292\n",
       "pixel0003    163.750973\n",
       "pixel0004    166.478599\n",
       "                ...    \n",
       "pixel0779    161.077821\n",
       "pixel0780    156.429961\n",
       "pixel0781    149.571984\n",
       "pixel0782    140.449416\n",
       "pixel0783    131.920233\n",
       "Length: 784, dtype: float64"
      ]
     },
     "execution_count": 5,
     "metadata": {},
     "output_type": "execute_result"
    }
   ],
   "source": [
    "#get rid of the label column\n",
    "pixels_carc=av_carc[0:784]\n",
    "pixels_carc"
   ]
  },
  {
   "cell_type": "code",
   "execution_count": 6,
   "metadata": {},
   "outputs": [
    {
     "data": {
      "image/png": "[encoded data removed]",
      "text/plain": [
       "<Figure size 432x288 with 1 Axes>"
      ]
     },
     "metadata": {
      "needs_background": "light"
     },
     "output_type": "display_data"
    }
   ],
   "source": [
    "# Histogram of mean values of each pixel\n",
    "histogram, bin_edges= np.histogram(pixels_carc,bins=20)\n",
    "plt.plot(bin_edges[0:-1],histogram)\n",
    "plt.title(\"Carcinoma Histogram\")\n",
    "plt.xlabel('Pixel Intensity')\n",
    "plt.ylabel(\"pixels\")\n",
    "plt.show()"
   ]
  },
  {
   "cell_type": "code",
   "execution_count": 89,
   "metadata": {},
   "outputs": [
    {
     "data": {
      "text/plain": [
       "4.396915883806542"
      ]
     },
     "execution_count": 89,
     "metadata": {},
     "output_type": "execute_result"
    }
   ],
   "source": [
    "#Find kurtosis of the histogram\n",
    "kurt_carc = kurtosis(pixels_carc, fisher=False)\n",
    "kurt_carc"
   ]
  },
  {
   "cell_type": "code",
   "execution_count": 90,
   "metadata": {},
   "outputs": [
    {
     "data": {
      "text/plain": [
       "-1.3618534010013699"
      ]
     },
     "execution_count": 90,
     "metadata": {},
     "output_type": "execute_result"
    }
   ],
   "source": [
    "#Find Skewness of the histogram\n",
    "skew_carc = skew(pixels_carc)\n",
    "skew_carc"
   ]
  },
  {
   "cell_type": "code",
   "execution_count": 9,
   "metadata": {},
   "outputs": [
    {
     "data": {
      "image/png": "[encoded data removed]",
      "text/plain": [
       "<Figure size 432x288 with 1 Axes>"
      ]
     },
     "metadata": {
      "needs_background": "light"
     },
     "output_type": "display_data"
    }
   ],
   "source": [
    "#Create a box plot\n",
    "plt.boxplot(pixels_carc)\n",
    "plt.title(\"Carcinoma Boxplot\")\n",
    "plt.xlabel('Pixel Intensity')\n",
    "plt.ylabel(\"pixels\")\n",
    "plt.show()"
   ]
  },
  {
   "cell_type": "code",
   "execution_count": 91,
   "metadata": {},
   "outputs": [
    {
     "data": {
      "text/plain": [
       "(164.33171206225683, 174.02772373540856)"
      ]
     },
     "execution_count": 91,
     "metadata": {},
     "output_type": "execute_result"
    }
   ],
   "source": [
    "# Computing First and Third Quartile\n",
    "Q1_carc = pixels_carc.quantile(0.25)\n",
    "Q3_carc = pixels_carc.quantile(0.75)\n",
    "\n",
    "Q1_carc,Q3_carc"
   ]
  },
  {
   "cell_type": "code",
   "execution_count": 92,
   "metadata": {},
   "outputs": [
    {
     "data": {
      "text/plain": [
       "167.8610413523386"
      ]
     },
     "execution_count": 92,
     "metadata": {},
     "output_type": "execute_result"
    }
   ],
   "source": [
    "#Computing mean\n",
    "mean_carc = statistics.mean(pixels_carc)\n",
    "mean_carc"
   ]
  },
  {
   "cell_type": "code",
   "execution_count": 93,
   "metadata": {},
   "outputs": [
    {
     "data": {
      "text/plain": [
       "8.622548096732332"
      ]
     },
     "execution_count": 93,
     "metadata": {},
     "output_type": "execute_result"
    }
   ],
   "source": [
    "#Computing standard deviation\n",
    "sd_carc = statistics.stdev(pixels_carc)\n",
    "sd_carc"
   ]
  },
  {
   "cell_type": "markdown",
   "metadata": {},
   "source": [
    "## Benign Keratosis"
   ]
  },
  {
   "cell_type": "code",
   "execution_count": 13,
   "metadata": {},
   "outputs": [
    {
     "data": {
      "text/html": [
       "<div>\n",
       "<style scoped>\n",
       "    .dataframe tbody tr th:only-of-type {\n",
       "        vertical-align: middle;\n",
       "    }\n",
       "\n",
       "    .dataframe tbody tr th {\n",
       "        vertical-align: top;\n",
       "    }\n",
       "\n",
       "    .dataframe thead th {\n",
       "        text-align: right;\n",
       "    }\n",
       "</style>\n",
       "<table border=\"1\" class=\"dataframe\">\n",
       "  <thead>\n",
       "    <tr style=\"text-align: right;\">\n",
       "      <th></th>\n",
       "      <th>pixel0000</th>\n",
       "      <th>pixel0001</th>\n",
       "      <th>pixel0002</th>\n",
       "      <th>pixel0003</th>\n",
       "      <th>pixel0004</th>\n",
       "      <th>pixel0005</th>\n",
       "      <th>pixel0006</th>\n",
       "      <th>pixel0007</th>\n",
       "      <th>pixel0008</th>\n",
       "      <th>pixel0009</th>\n",
       "      <th>...</th>\n",
       "      <th>pixel0775</th>\n",
       "      <th>pixel0776</th>\n",
       "      <th>pixel0777</th>\n",
       "      <th>pixel0778</th>\n",
       "      <th>pixel0779</th>\n",
       "      <th>pixel0780</th>\n",
       "      <th>pixel0781</th>\n",
       "      <th>pixel0782</th>\n",
       "      <th>pixel0783</th>\n",
       "      <th>label</th>\n",
       "    </tr>\n",
       "  </thead>\n",
       "  <tbody>\n",
       "    <tr>\n",
       "      <th>count</th>\n",
       "      <td>1099.000000</td>\n",
       "      <td>1099.000000</td>\n",
       "      <td>1099.000000</td>\n",
       "      <td>1099.000000</td>\n",
       "      <td>1099.000000</td>\n",
       "      <td>1099.000000</td>\n",
       "      <td>1099.000000</td>\n",
       "      <td>1099.000000</td>\n",
       "      <td>1099.000000</td>\n",
       "      <td>1099.000000</td>\n",
       "      <td>...</td>\n",
       "      <td>1099.000000</td>\n",
       "      <td>1099.000000</td>\n",
       "      <td>1099.000000</td>\n",
       "      <td>1099.000000</td>\n",
       "      <td>1099.000000</td>\n",
       "      <td>1099.000000</td>\n",
       "      <td>1099.000000</td>\n",
       "      <td>1099.000000</td>\n",
       "      <td>1099.000000</td>\n",
       "      <td>1099.0</td>\n",
       "    </tr>\n",
       "    <tr>\n",
       "      <th>mean</th>\n",
       "      <td>127.044586</td>\n",
       "      <td>134.572338</td>\n",
       "      <td>141.916288</td>\n",
       "      <td>147.786169</td>\n",
       "      <td>152.607825</td>\n",
       "      <td>156.636033</td>\n",
       "      <td>159.797088</td>\n",
       "      <td>161.817106</td>\n",
       "      <td>163.469518</td>\n",
       "      <td>164.577798</td>\n",
       "      <td>...</td>\n",
       "      <td>158.586897</td>\n",
       "      <td>156.734304</td>\n",
       "      <td>154.548681</td>\n",
       "      <td>151.876251</td>\n",
       "      <td>148.361237</td>\n",
       "      <td>142.708826</td>\n",
       "      <td>135.993631</td>\n",
       "      <td>127.997270</td>\n",
       "      <td>119.348499</td>\n",
       "      <td>2.0</td>\n",
       "    </tr>\n",
       "    <tr>\n",
       "      <th>std</th>\n",
       "      <td>54.782205</td>\n",
       "      <td>50.850123</td>\n",
       "      <td>45.634130</td>\n",
       "      <td>40.792008</td>\n",
       "      <td>36.512492</td>\n",
       "      <td>32.389766</td>\n",
       "      <td>29.178050</td>\n",
       "      <td>27.337036</td>\n",
       "      <td>26.428198</td>\n",
       "      <td>25.544313</td>\n",
       "      <td>...</td>\n",
       "      <td>27.192601</td>\n",
       "      <td>28.693824</td>\n",
       "      <td>30.551789</td>\n",
       "      <td>32.392138</td>\n",
       "      <td>35.208999</td>\n",
       "      <td>39.934085</td>\n",
       "      <td>45.822586</td>\n",
       "      <td>51.049576</td>\n",
       "      <td>55.343155</td>\n",
       "      <td>0.0</td>\n",
       "    </tr>\n",
       "    <tr>\n",
       "      <th>min</th>\n",
       "      <td>0.000000</td>\n",
       "      <td>0.000000</td>\n",
       "      <td>0.000000</td>\n",
       "      <td>0.000000</td>\n",
       "      <td>0.000000</td>\n",
       "      <td>0.000000</td>\n",
       "      <td>1.000000</td>\n",
       "      <td>5.000000</td>\n",
       "      <td>6.000000</td>\n",
       "      <td>8.000000</td>\n",
       "      <td>...</td>\n",
       "      <td>21.000000</td>\n",
       "      <td>24.000000</td>\n",
       "      <td>0.000000</td>\n",
       "      <td>3.000000</td>\n",
       "      <td>8.000000</td>\n",
       "      <td>0.000000</td>\n",
       "      <td>0.000000</td>\n",
       "      <td>0.000000</td>\n",
       "      <td>0.000000</td>\n",
       "      <td>2.0</td>\n",
       "    </tr>\n",
       "    <tr>\n",
       "      <th>25%</th>\n",
       "      <td>103.000000</td>\n",
       "      <td>115.000000</td>\n",
       "      <td>124.000000</td>\n",
       "      <td>131.000000</td>\n",
       "      <td>136.000000</td>\n",
       "      <td>139.000000</td>\n",
       "      <td>143.000000</td>\n",
       "      <td>145.000000</td>\n",
       "      <td>147.000000</td>\n",
       "      <td>148.000000</td>\n",
       "      <td>...</td>\n",
       "      <td>141.000000</td>\n",
       "      <td>139.000000</td>\n",
       "      <td>137.000000</td>\n",
       "      <td>134.000000</td>\n",
       "      <td>130.000000</td>\n",
       "      <td>123.000000</td>\n",
       "      <td>115.500000</td>\n",
       "      <td>104.000000</td>\n",
       "      <td>92.000000</td>\n",
       "      <td>2.0</td>\n",
       "    </tr>\n",
       "    <tr>\n",
       "      <th>50%</th>\n",
       "      <td>139.000000</td>\n",
       "      <td>144.000000</td>\n",
       "      <td>149.000000</td>\n",
       "      <td>153.000000</td>\n",
       "      <td>156.000000</td>\n",
       "      <td>158.000000</td>\n",
       "      <td>161.000000</td>\n",
       "      <td>162.000000</td>\n",
       "      <td>164.000000</td>\n",
       "      <td>165.000000</td>\n",
       "      <td>...</td>\n",
       "      <td>158.000000</td>\n",
       "      <td>157.000000</td>\n",
       "      <td>156.000000</td>\n",
       "      <td>154.000000</td>\n",
       "      <td>151.000000</td>\n",
       "      <td>147.000000</td>\n",
       "      <td>144.000000</td>\n",
       "      <td>139.000000</td>\n",
       "      <td>132.000000</td>\n",
       "      <td>2.0</td>\n",
       "    </tr>\n",
       "    <tr>\n",
       "      <th>75%</th>\n",
       "      <td>166.000000</td>\n",
       "      <td>170.000000</td>\n",
       "      <td>172.000000</td>\n",
       "      <td>174.500000</td>\n",
       "      <td>176.000000</td>\n",
       "      <td>177.000000</td>\n",
       "      <td>178.000000</td>\n",
       "      <td>179.000000</td>\n",
       "      <td>179.500000</td>\n",
       "      <td>180.000000</td>\n",
       "      <td>...</td>\n",
       "      <td>177.000000</td>\n",
       "      <td>176.000000</td>\n",
       "      <td>175.000000</td>\n",
       "      <td>173.000000</td>\n",
       "      <td>172.000000</td>\n",
       "      <td>170.000000</td>\n",
       "      <td>167.000000</td>\n",
       "      <td>163.000000</td>\n",
       "      <td>160.000000</td>\n",
       "      <td>2.0</td>\n",
       "    </tr>\n",
       "    <tr>\n",
       "      <th>max</th>\n",
       "      <td>238.000000</td>\n",
       "      <td>238.000000</td>\n",
       "      <td>235.000000</td>\n",
       "      <td>235.000000</td>\n",
       "      <td>234.000000</td>\n",
       "      <td>239.000000</td>\n",
       "      <td>239.000000</td>\n",
       "      <td>240.000000</td>\n",
       "      <td>238.000000</td>\n",
       "      <td>237.000000</td>\n",
       "      <td>...</td>\n",
       "      <td>244.000000</td>\n",
       "      <td>245.000000</td>\n",
       "      <td>244.000000</td>\n",
       "      <td>242.000000</td>\n",
       "      <td>249.000000</td>\n",
       "      <td>247.000000</td>\n",
       "      <td>244.000000</td>\n",
       "      <td>243.000000</td>\n",
       "      <td>240.000000</td>\n",
       "      <td>2.0</td>\n",
       "    </tr>\n",
       "  </tbody>\n",
       "</table>\n",
       "<p>8 rows × 785 columns</p>\n",
       "</div>"
      ],
      "text/plain": [
       "         pixel0000    pixel0001    pixel0002    pixel0003    pixel0004  \\\n",
       "count  1099.000000  1099.000000  1099.000000  1099.000000  1099.000000   \n",
       "mean    127.044586   134.572338   141.916288   147.786169   152.607825   \n",
       "std      54.782205    50.850123    45.634130    40.792008    36.512492   \n",
       "min       0.000000     0.000000     0.000000     0.000000     0.000000   \n",
       "25%     103.000000   115.000000   124.000000   131.000000   136.000000   \n",
       "50%     139.000000   144.000000   149.000000   153.000000   156.000000   \n",
       "75%     166.000000   170.000000   172.000000   174.500000   176.000000   \n",
       "max     238.000000   238.000000   235.000000   235.000000   234.000000   \n",
       "\n",
       "         pixel0005    pixel0006    pixel0007    pixel0008    pixel0009  ...  \\\n",
       "count  1099.000000  1099.000000  1099.000000  1099.000000  1099.000000  ...   \n",
       "mean    156.636033   159.797088   161.817106   163.469518   164.577798  ...   \n",
       "std      32.389766    29.178050    27.337036    26.428198    25.544313  ...   \n",
       "min       0.000000     1.000000     5.000000     6.000000     8.000000  ...   \n",
       "25%     139.000000   143.000000   145.000000   147.000000   148.000000  ...   \n",
       "50%     158.000000   161.000000   162.000000   164.000000   165.000000  ...   \n",
       "75%     177.000000   178.000000   179.000000   179.500000   180.000000  ...   \n",
       "max     239.000000   239.000000   240.000000   238.000000   237.000000  ...   \n",
       "\n",
       "         pixel0775    pixel0776    pixel0777    pixel0778    pixel0779  \\\n",
       "count  1099.000000  1099.000000  1099.000000  1099.000000  1099.000000   \n",
       "mean    158.586897   156.734304   154.548681   151.876251   148.361237   \n",
       "std      27.192601    28.693824    30.551789    32.392138    35.208999   \n",
       "min      21.000000    24.000000     0.000000     3.000000     8.000000   \n",
       "25%     141.000000   139.000000   137.000000   134.000000   130.000000   \n",
       "50%     158.000000   157.000000   156.000000   154.000000   151.000000   \n",
       "75%     177.000000   176.000000   175.000000   173.000000   172.000000   \n",
       "max     244.000000   245.000000   244.000000   242.000000   249.000000   \n",
       "\n",
       "         pixel0780    pixel0781    pixel0782    pixel0783   label  \n",
       "count  1099.000000  1099.000000  1099.000000  1099.000000  1099.0  \n",
       "mean    142.708826   135.993631   127.997270   119.348499     2.0  \n",
       "std      39.934085    45.822586    51.049576    55.343155     0.0  \n",
       "min       0.000000     0.000000     0.000000     0.000000     2.0  \n",
       "25%     123.000000   115.500000   104.000000    92.000000     2.0  \n",
       "50%     147.000000   144.000000   139.000000   132.000000     2.0  \n",
       "75%     170.000000   167.000000   163.000000   160.000000     2.0  \n",
       "max     247.000000   244.000000   243.000000   240.000000     2.0  \n",
       "\n",
       "[8 rows x 785 columns]"
      ]
     },
     "execution_count": 13,
     "metadata": {},
     "output_type": "execute_result"
    }
   ],
   "source": [
    "# Basic Statistics\n",
    "df_bkl.describe()"
   ]
  },
  {
   "cell_type": "code",
   "execution_count": 14,
   "metadata": {},
   "outputs": [
    {
     "data": {
      "text/plain": [
       "pixel0000    127.044586\n",
       "pixel0001    134.572338\n",
       "pixel0002    141.916288\n",
       "pixel0003    147.786169\n",
       "pixel0004    152.607825\n",
       "                ...    \n",
       "pixel0780    142.708826\n",
       "pixel0781    135.993631\n",
       "pixel0782    127.997270\n",
       "pixel0783    119.348499\n",
       "label          2.000000\n",
       "Length: 785, dtype: float64"
      ]
     },
     "execution_count": 14,
     "metadata": {},
     "output_type": "execute_result"
    }
   ],
   "source": [
    "#pick up the means for each pixel\n",
    "av_bkl=df_bkl.mean(axis=0)\n",
    "av_bkl"
   ]
  },
  {
   "cell_type": "code",
   "execution_count": 15,
   "metadata": {},
   "outputs": [
    {
     "data": {
      "text/plain": [
       "pixel0000    127.044586\n",
       "pixel0001    134.572338\n",
       "pixel0002    141.916288\n",
       "pixel0003    147.786169\n",
       "pixel0004    152.607825\n",
       "                ...    \n",
       "pixel0779    148.361237\n",
       "pixel0780    142.708826\n",
       "pixel0781    135.993631\n",
       "pixel0782    127.997270\n",
       "pixel0783    119.348499\n",
       "Length: 784, dtype: float64"
      ]
     },
     "execution_count": 15,
     "metadata": {},
     "output_type": "execute_result"
    }
   ],
   "source": [
    "#get rid of the label column\n",
    "pixels_bkl=av_bkl[0:784]\n",
    "pixels_bkl"
   ]
  },
  {
   "cell_type": "code",
   "execution_count": 16,
   "metadata": {},
   "outputs": [
    {
     "data": {
      "image/png": "[encoded data removed]",
      "text/plain": [
       "<Figure size 432x288 with 1 Axes>"
      ]
     },
     "metadata": {
      "needs_background": "light"
     },
     "output_type": "display_data"
    }
   ],
   "source": [
    "# Histogram of mean values of each pixel\n",
    "histogram, bin_edges= np.histogram(pixels_bkl,bins=20)\n",
    "plt.plot(bin_edges[0:-1],histogram)\n",
    "plt.title(\"Benign Keratosis Histogram\")\n",
    "plt.xlabel('Pixel Intensity')\n",
    "plt.ylabel(\"pixels\")\n",
    "plt.show()"
   ]
  },
  {
   "cell_type": "code",
   "execution_count": 121,
   "metadata": {},
   "outputs": [
    {
     "data": {
      "text/plain": [
       "3.405378041175825"
      ]
     },
     "execution_count": 121,
     "metadata": {},
     "output_type": "execute_result"
    }
   ],
   "source": [
    "#Find kurtosis of the histogram\n",
    "kurt_bkl = kurtosis(pixels_bkl, fisher=False)\n",
    "kurt_bkl"
   ]
  },
  {
   "cell_type": "code",
   "execution_count": 122,
   "metadata": {},
   "outputs": [
    {
     "data": {
      "text/plain": [
       "-1.075407049741422"
      ]
     },
     "execution_count": 122,
     "metadata": {},
     "output_type": "execute_result"
    }
   ],
   "source": [
    "#Find Skewness of the histogram\n",
    "skew_bkl = skew(pixels_bkl)\n",
    "skew_bkl"
   ]
  },
  {
   "cell_type": "code",
   "execution_count": 123,
   "metadata": {},
   "outputs": [
    {
     "data": {
      "image/png": "[encoded data removed]",
      "text/plain": [
       "<Figure size 1440x432 with 1 Axes>"
      ]
     },
     "metadata": {
      "needs_background": "light"
     },
     "output_type": "display_data"
    }
   ],
   "source": [
    "#Create a box plot\n",
    "plt.boxplot(pixels_bkl)\n",
    "plt.title(\"Benign Keratosis Boxplot\")\n",
    "plt.xlabel('Pixel Intensity')\n",
    "plt.ylabel(\"pixels\")\n",
    "plt.show()"
   ]
  },
  {
   "cell_type": "code",
   "execution_count": 118,
   "metadata": {},
   "outputs": [
    {
     "data": {
      "text/plain": [
       "(146.00295723384897, 159.01205641492265)"
      ]
     },
     "execution_count": 118,
     "metadata": {},
     "output_type": "execute_result"
    }
   ],
   "source": [
    "# Computing 1st and 3rd Quartile\n",
    "Q1_bkl = pixels_bkl.quantile(0.25)\n",
    "Q3_bkl = pixels_bkl.quantile(0.75)\n",
    "\n",
    "Q1_bkl,Q3_bkl\n"
   ]
  },
  {
   "cell_type": "code",
   "execution_count": 117,
   "metadata": {},
   "outputs": [
    {
     "data": {
      "text/plain": [
       "151.44817412861414"
      ]
     },
     "execution_count": 117,
     "metadata": {},
     "output_type": "execute_result"
    }
   ],
   "source": [
    "#Computing mean\n",
    "mean_bkl = statistics.mean(pixels_bkl)\n",
    "mean_bkl"
   ]
  },
  {
   "cell_type": "code",
   "execution_count": 119,
   "metadata": {},
   "outputs": [
    {
     "data": {
      "text/plain": [
       "10.74575037284487"
      ]
     },
     "execution_count": 119,
     "metadata": {},
     "output_type": "execute_result"
    }
   ],
   "source": [
    "#Computing SD\n",
    "sd_bkl = statistics.stdev(pixels_bkl)\n",
    "sd_bkl"
   ]
  },
  {
   "cell_type": "markdown",
   "metadata": {},
   "source": [
    "## Melanocytic Nevi"
   ]
  },
  {
   "cell_type": "code",
   "execution_count": 23,
   "metadata": {},
   "outputs": [
    {
     "name": "stdout",
     "output_type": "stream",
     "text": [
      "<class 'pandas.core.frame.DataFrame'>\n",
      "Int64Index: 6705 entries, 64 to 9686\n",
      "Columns: 785 entries, pixel0000 to label\n",
      "dtypes: int64(785)\n",
      "memory usage: 40.2 MB\n"
     ]
    }
   ],
   "source": [
    "df_mn.info()  #we have 6705 rows whereas for other classes we have much less"
   ]
  },
  {
   "cell_type": "markdown",
   "metadata": {},
   "source": [
    "From the info about the dataset we can see that for this class of diagnosis, there are 6,705 images which is much more than any other class.  Therefore, we decided to randomly sample 1,100 images from this class so that the number of datapoints is closer to the datasets for the other diagnoses"
   ]
  },
  {
   "cell_type": "code",
   "execution_count": 94,
   "metadata": {},
   "outputs": [
    {
     "data": {
      "text/html": [
       "<div>\n",
       "<style scoped>\n",
       "    .dataframe tbody tr th:only-of-type {\n",
       "        vertical-align: middle;\n",
       "    }\n",
       "\n",
       "    .dataframe tbody tr th {\n",
       "        vertical-align: top;\n",
       "    }\n",
       "\n",
       "    .dataframe thead th {\n",
       "        text-align: right;\n",
       "    }\n",
       "</style>\n",
       "<table border=\"1\" class=\"dataframe\">\n",
       "  <thead>\n",
       "    <tr style=\"text-align: right;\">\n",
       "      <th></th>\n",
       "      <th>pixel0000</th>\n",
       "      <th>pixel0001</th>\n",
       "      <th>pixel0002</th>\n",
       "      <th>pixel0003</th>\n",
       "      <th>pixel0004</th>\n",
       "      <th>pixel0005</th>\n",
       "      <th>pixel0006</th>\n",
       "      <th>pixel0007</th>\n",
       "      <th>pixel0008</th>\n",
       "      <th>pixel0009</th>\n",
       "      <th>...</th>\n",
       "      <th>pixel0775</th>\n",
       "      <th>pixel0776</th>\n",
       "      <th>pixel0777</th>\n",
       "      <th>pixel0778</th>\n",
       "      <th>pixel0779</th>\n",
       "      <th>pixel0780</th>\n",
       "      <th>pixel0781</th>\n",
       "      <th>pixel0782</th>\n",
       "      <th>pixel0783</th>\n",
       "      <th>label</th>\n",
       "    </tr>\n",
       "  </thead>\n",
       "  <tbody>\n",
       "    <tr>\n",
       "      <th>count</th>\n",
       "      <td>1100.000000</td>\n",
       "      <td>1100.000000</td>\n",
       "      <td>1100.000000</td>\n",
       "      <td>1100.000000</td>\n",
       "      <td>1100.000000</td>\n",
       "      <td>1100.000000</td>\n",
       "      <td>1100.000000</td>\n",
       "      <td>1100.000000</td>\n",
       "      <td>1100.000000</td>\n",
       "      <td>1100.000000</td>\n",
       "      <td>...</td>\n",
       "      <td>1100.000000</td>\n",
       "      <td>1100.000000</td>\n",
       "      <td>1100.000000</td>\n",
       "      <td>1100.000000</td>\n",
       "      <td>1100.000000</td>\n",
       "      <td>1100.000000</td>\n",
       "      <td>1100.000000</td>\n",
       "      <td>1100.000000</td>\n",
       "      <td>1100.000000</td>\n",
       "      <td>1100.0</td>\n",
       "    </tr>\n",
       "    <tr>\n",
       "      <th>mean</th>\n",
       "      <td>153.315455</td>\n",
       "      <td>157.754545</td>\n",
       "      <td>160.963636</td>\n",
       "      <td>162.944545</td>\n",
       "      <td>165.556364</td>\n",
       "      <td>167.684545</td>\n",
       "      <td>169.254545</td>\n",
       "      <td>170.646364</td>\n",
       "      <td>171.364545</td>\n",
       "      <td>171.898182</td>\n",
       "      <td>...</td>\n",
       "      <td>167.390909</td>\n",
       "      <td>166.590909</td>\n",
       "      <td>166.112727</td>\n",
       "      <td>165.333636</td>\n",
       "      <td>163.041818</td>\n",
       "      <td>159.655455</td>\n",
       "      <td>156.258182</td>\n",
       "      <td>152.769091</td>\n",
       "      <td>149.087273</td>\n",
       "      <td>4.0</td>\n",
       "    </tr>\n",
       "    <tr>\n",
       "      <th>std</th>\n",
       "      <td>43.830818</td>\n",
       "      <td>39.894580</td>\n",
       "      <td>36.403318</td>\n",
       "      <td>34.238573</td>\n",
       "      <td>31.413812</td>\n",
       "      <td>27.560662</td>\n",
       "      <td>24.815804</td>\n",
       "      <td>23.462696</td>\n",
       "      <td>23.234235</td>\n",
       "      <td>22.903099</td>\n",
       "      <td>...</td>\n",
       "      <td>22.927665</td>\n",
       "      <td>23.071237</td>\n",
       "      <td>23.272528</td>\n",
       "      <td>24.302210</td>\n",
       "      <td>26.689740</td>\n",
       "      <td>32.608249</td>\n",
       "      <td>37.620884</td>\n",
       "      <td>41.554894</td>\n",
       "      <td>43.506932</td>\n",
       "      <td>0.0</td>\n",
       "    </tr>\n",
       "    <tr>\n",
       "      <th>min</th>\n",
       "      <td>0.000000</td>\n",
       "      <td>0.000000</td>\n",
       "      <td>0.000000</td>\n",
       "      <td>0.000000</td>\n",
       "      <td>5.000000</td>\n",
       "      <td>7.000000</td>\n",
       "      <td>52.000000</td>\n",
       "      <td>51.000000</td>\n",
       "      <td>43.000000</td>\n",
       "      <td>74.000000</td>\n",
       "      <td>...</td>\n",
       "      <td>5.000000</td>\n",
       "      <td>9.000000</td>\n",
       "      <td>9.000000</td>\n",
       "      <td>5.000000</td>\n",
       "      <td>0.000000</td>\n",
       "      <td>0.000000</td>\n",
       "      <td>0.000000</td>\n",
       "      <td>0.000000</td>\n",
       "      <td>0.000000</td>\n",
       "      <td>4.0</td>\n",
       "    </tr>\n",
       "    <tr>\n",
       "      <th>25%</th>\n",
       "      <td>145.000000</td>\n",
       "      <td>149.000000</td>\n",
       "      <td>151.000000</td>\n",
       "      <td>153.000000</td>\n",
       "      <td>154.000000</td>\n",
       "      <td>156.000000</td>\n",
       "      <td>156.000000</td>\n",
       "      <td>158.000000</td>\n",
       "      <td>158.000000</td>\n",
       "      <td>159.000000</td>\n",
       "      <td>...</td>\n",
       "      <td>153.000000</td>\n",
       "      <td>153.000000</td>\n",
       "      <td>152.000000</td>\n",
       "      <td>151.000000</td>\n",
       "      <td>149.000000</td>\n",
       "      <td>147.000000</td>\n",
       "      <td>145.000000</td>\n",
       "      <td>143.000000</td>\n",
       "      <td>139.750000</td>\n",
       "      <td>4.0</td>\n",
       "    </tr>\n",
       "    <tr>\n",
       "      <th>50%</th>\n",
       "      <td>164.000000</td>\n",
       "      <td>167.000000</td>\n",
       "      <td>168.000000</td>\n",
       "      <td>169.000000</td>\n",
       "      <td>170.000000</td>\n",
       "      <td>171.000000</td>\n",
       "      <td>171.000000</td>\n",
       "      <td>172.000000</td>\n",
       "      <td>172.000000</td>\n",
       "      <td>173.000000</td>\n",
       "      <td>...</td>\n",
       "      <td>168.000000</td>\n",
       "      <td>167.000000</td>\n",
       "      <td>168.000000</td>\n",
       "      <td>167.000000</td>\n",
       "      <td>166.000000</td>\n",
       "      <td>165.000000</td>\n",
       "      <td>163.500000</td>\n",
       "      <td>162.000000</td>\n",
       "      <td>159.000000</td>\n",
       "      <td>4.0</td>\n",
       "    </tr>\n",
       "    <tr>\n",
       "      <th>75%</th>\n",
       "      <td>179.000000</td>\n",
       "      <td>180.000000</td>\n",
       "      <td>182.000000</td>\n",
       "      <td>182.000000</td>\n",
       "      <td>183.250000</td>\n",
       "      <td>184.000000</td>\n",
       "      <td>185.000000</td>\n",
       "      <td>185.000000</td>\n",
       "      <td>186.000000</td>\n",
       "      <td>187.000000</td>\n",
       "      <td>...</td>\n",
       "      <td>182.000000</td>\n",
       "      <td>182.000000</td>\n",
       "      <td>181.000000</td>\n",
       "      <td>181.000000</td>\n",
       "      <td>180.000000</td>\n",
       "      <td>178.250000</td>\n",
       "      <td>177.000000</td>\n",
       "      <td>176.000000</td>\n",
       "      <td>174.000000</td>\n",
       "      <td>4.0</td>\n",
       "    </tr>\n",
       "    <tr>\n",
       "      <th>max</th>\n",
       "      <td>233.000000</td>\n",
       "      <td>234.000000</td>\n",
       "      <td>236.000000</td>\n",
       "      <td>234.000000</td>\n",
       "      <td>237.000000</td>\n",
       "      <td>238.000000</td>\n",
       "      <td>241.000000</td>\n",
       "      <td>242.000000</td>\n",
       "      <td>243.000000</td>\n",
       "      <td>247.000000</td>\n",
       "      <td>...</td>\n",
       "      <td>236.000000</td>\n",
       "      <td>234.000000</td>\n",
       "      <td>235.000000</td>\n",
       "      <td>232.000000</td>\n",
       "      <td>234.000000</td>\n",
       "      <td>234.000000</td>\n",
       "      <td>232.000000</td>\n",
       "      <td>232.000000</td>\n",
       "      <td>237.000000</td>\n",
       "      <td>4.0</td>\n",
       "    </tr>\n",
       "  </tbody>\n",
       "</table>\n",
       "<p>8 rows × 785 columns</p>\n",
       "</div>"
      ],
      "text/plain": [
       "         pixel0000    pixel0001    pixel0002    pixel0003    pixel0004  \\\n",
       "count  1100.000000  1100.000000  1100.000000  1100.000000  1100.000000   \n",
       "mean    153.315455   157.754545   160.963636   162.944545   165.556364   \n",
       "std      43.830818    39.894580    36.403318    34.238573    31.413812   \n",
       "min       0.000000     0.000000     0.000000     0.000000     5.000000   \n",
       "25%     145.000000   149.000000   151.000000   153.000000   154.000000   \n",
       "50%     164.000000   167.000000   168.000000   169.000000   170.000000   \n",
       "75%     179.000000   180.000000   182.000000   182.000000   183.250000   \n",
       "max     233.000000   234.000000   236.000000   234.000000   237.000000   \n",
       "\n",
       "         pixel0005    pixel0006    pixel0007    pixel0008    pixel0009  ...  \\\n",
       "count  1100.000000  1100.000000  1100.000000  1100.000000  1100.000000  ...   \n",
       "mean    167.684545   169.254545   170.646364   171.364545   171.898182  ...   \n",
       "std      27.560662    24.815804    23.462696    23.234235    22.903099  ...   \n",
       "min       7.000000    52.000000    51.000000    43.000000    74.000000  ...   \n",
       "25%     156.000000   156.000000   158.000000   158.000000   159.000000  ...   \n",
       "50%     171.000000   171.000000   172.000000   172.000000   173.000000  ...   \n",
       "75%     184.000000   185.000000   185.000000   186.000000   187.000000  ...   \n",
       "max     238.000000   241.000000   242.000000   243.000000   247.000000  ...   \n",
       "\n",
       "         pixel0775    pixel0776    pixel0777    pixel0778    pixel0779  \\\n",
       "count  1100.000000  1100.000000  1100.000000  1100.000000  1100.000000   \n",
       "mean    167.390909   166.590909   166.112727   165.333636   163.041818   \n",
       "std      22.927665    23.071237    23.272528    24.302210    26.689740   \n",
       "min       5.000000     9.000000     9.000000     5.000000     0.000000   \n",
       "25%     153.000000   153.000000   152.000000   151.000000   149.000000   \n",
       "50%     168.000000   167.000000   168.000000   167.000000   166.000000   \n",
       "75%     182.000000   182.000000   181.000000   181.000000   180.000000   \n",
       "max     236.000000   234.000000   235.000000   232.000000   234.000000   \n",
       "\n",
       "         pixel0780    pixel0781    pixel0782    pixel0783   label  \n",
       "count  1100.000000  1100.000000  1100.000000  1100.000000  1100.0  \n",
       "mean    159.655455   156.258182   152.769091   149.087273     4.0  \n",
       "std      32.608249    37.620884    41.554894    43.506932     0.0  \n",
       "min       0.000000     0.000000     0.000000     0.000000     4.0  \n",
       "25%     147.000000   145.000000   143.000000   139.750000     4.0  \n",
       "50%     165.000000   163.500000   162.000000   159.000000     4.0  \n",
       "75%     178.250000   177.000000   176.000000   174.000000     4.0  \n",
       "max     234.000000   232.000000   232.000000   237.000000     4.0  \n",
       "\n",
       "[8 rows x 785 columns]"
      ]
     },
     "execution_count": 94,
     "metadata": {},
     "output_type": "execute_result"
    }
   ],
   "source": [
    "#randomly select 1100 datapoints and look at descriptive statistics\n",
    "\n",
    "df_mn_red = df_mn.sample(n=1100,random_state=142)\n",
    "df_mn_red.describe()"
   ]
  },
  {
   "cell_type": "markdown",
   "metadata": {},
   "source": [
    "We first performed the same procedures as for Basal Cell and Benign Keratosis above on the full dataset for Melanocytic Nevi. Then we reperformed them on the sampled dataframe. We wanted to see if sampling would significantly distort the statistics we are getting."
   ]
  },
  {
   "cell_type": "markdown",
   "metadata": {},
   "source": [
    "### On full dataset for mn - 6705 rows"
   ]
  },
  {
   "cell_type": "code",
   "execution_count": 25,
   "metadata": {},
   "outputs": [
    {
     "data": {
      "text/plain": [
       "pixel0000    154.427890\n",
       "pixel0001    158.798359\n",
       "pixel0002    162.214914\n",
       "pixel0003    164.558688\n",
       "pixel0004    166.907233\n",
       "                ...    \n",
       "pixel0780    160.433855\n",
       "pixel0781    156.984191\n",
       "pixel0782    153.074720\n",
       "pixel0783    149.043997\n",
       "label          4.000000\n",
       "Length: 785, dtype: float64"
      ]
     },
     "execution_count": 25,
     "metadata": {},
     "output_type": "execute_result"
    }
   ],
   "source": [
    "#pick up the means for each pixel\n",
    "av_mn=df_mn.mean(axis=0)\n",
    "av_mn"
   ]
  },
  {
   "cell_type": "code",
   "execution_count": 26,
   "metadata": {},
   "outputs": [
    {
     "data": {
      "text/plain": [
       "pixel0000    154.427890\n",
       "pixel0001    158.798359\n",
       "pixel0002    162.214914\n",
       "pixel0003    164.558688\n",
       "pixel0004    166.907233\n",
       "                ...    \n",
       "pixel0779    163.432215\n",
       "pixel0780    160.433855\n",
       "pixel0781    156.984191\n",
       "pixel0782    153.074720\n",
       "pixel0783    149.043997\n",
       "Length: 784, dtype: float64"
      ]
     },
     "execution_count": 26,
     "metadata": {},
     "output_type": "execute_result"
    }
   ],
   "source": [
    "#get rid of the label column\n",
    "pixels_mn=av_mn[0:784]\n",
    "pixels_mn"
   ]
  },
  {
   "cell_type": "code",
   "execution_count": 27,
   "metadata": {},
   "outputs": [
    {
     "data": {
      "image/png": "[encoded data removed]",
      "text/plain": [
       "<Figure size 432x288 with 1 Axes>"
      ]
     },
     "metadata": {
      "needs_background": "light"
     },
     "output_type": "display_data"
    }
   ],
   "source": [
    "# Histogram of mean values of each pixel\n",
    "histogram, bin_edges= np.histogram(pixels_mn,bins=20)\n",
    "plt.plot(bin_edges[0:-1],histogram)\n",
    "plt.title(\"Melanocytic Nevi Histogram\")\n",
    "plt.xlabel('Pixel Intensity')\n",
    "plt.ylabel(\"pixels\")\n",
    "plt.show()"
   ]
  },
  {
   "cell_type": "code",
   "execution_count": 95,
   "metadata": {},
   "outputs": [
    {
     "data": {
      "text/plain": [
       "5.397026066934137"
      ]
     },
     "execution_count": 95,
     "metadata": {},
     "output_type": "execute_result"
    }
   ],
   "source": [
    "#Find kurtosis of the histogram\n",
    "kurt_mn = kurtosis(pixels_mn, fisher=False)\n",
    "kurt_mn"
   ]
  },
  {
   "cell_type": "code",
   "execution_count": 96,
   "metadata": {},
   "outputs": [
    {
     "data": {
      "text/plain": [
       "-1.7553433356402082"
      ]
     },
     "execution_count": 96,
     "metadata": {},
     "output_type": "execute_result"
    }
   ],
   "source": [
    "#Find Skewness of the histogram\n",
    "skew_mn = skew(pixels_mn)\n",
    "skew_mn"
   ]
  },
  {
   "cell_type": "code",
   "execution_count": 97,
   "metadata": {},
   "outputs": [
    {
     "data": {
      "image/png": "[encoded data removed]",
      "text/plain": [
       "<Figure size 1440x432 with 1 Axes>"
      ]
     },
     "metadata": {
      "needs_background": "light"
     },
     "output_type": "display_data"
    }
   ],
   "source": [
    "#Create a box plot\n",
    "plt.boxplot(pixels_mn)\n",
    "plt.title(\"Monocytic Nevi Boxplot\")\n",
    "plt.xlabel('Pixel Intensity')\n",
    "plt.ylabel(\"pixels\")\n",
    "plt.show()"
   ]
  },
  {
   "cell_type": "code",
   "execution_count": 98,
   "metadata": {},
   "outputs": [
    {
     "data": {
      "text/plain": [
       "(152.4772557792692, 166.5193139448173)"
      ]
     },
     "execution_count": 98,
     "metadata": {},
     "output_type": "execute_result"
    }
   ],
   "source": [
    "# Computing 1st and 3rd Quartile\n",
    "Q1_mn = pixels_mn.quantile(0.25)\n",
    "Q3_mn = pixels_mn.quantile(0.75)\n",
    "\n",
    "Q1_mn,Q3_mn\n"
   ]
  },
  {
   "cell_type": "markdown",
   "metadata": {},
   "source": [
    "### On Reduced Number of Rows - randomly sampled 1,100 images"
   ]
  },
  {
   "cell_type": "code",
   "execution_count": 32,
   "metadata": {},
   "outputs": [
    {
     "data": {
      "text/plain": [
       "pixel0000    152.257\n",
       "pixel0001    156.832\n",
       "pixel0002    160.207\n",
       "pixel0003    162.303\n",
       "pixel0004    164.838\n",
       "              ...   \n",
       "pixel0780    158.976\n",
       "pixel0781    155.491\n",
       "pixel0782    151.793\n",
       "pixel0783    148.111\n",
       "label          4.000\n",
       "Length: 785, dtype: float64"
      ]
     },
     "execution_count": 32,
     "metadata": {},
     "output_type": "execute_result"
    }
   ],
   "source": [
    "#pick up the means for each pixel\n",
    "av_mn_red=df_mn_red.mean(axis=0)\n",
    "av_mn_red"
   ]
  },
  {
   "cell_type": "code",
   "execution_count": 33,
   "metadata": {},
   "outputs": [
    {
     "data": {
      "text/plain": [
       "pixel0000    152.257\n",
       "pixel0001    156.832\n",
       "pixel0002    160.207\n",
       "pixel0003    162.303\n",
       "pixel0004    164.838\n",
       "              ...   \n",
       "pixel0779    162.488\n",
       "pixel0780    158.976\n",
       "pixel0781    155.491\n",
       "pixel0782    151.793\n",
       "pixel0783    148.111\n",
       "Length: 784, dtype: float64"
      ]
     },
     "execution_count": 33,
     "metadata": {},
     "output_type": "execute_result"
    }
   ],
   "source": [
    "#get rid of the label column\n",
    "pixels_mn_red=av_mn_red[0:784]\n",
    "pixels_mn_red"
   ]
  },
  {
   "cell_type": "code",
   "execution_count": 34,
   "metadata": {},
   "outputs": [
    {
     "data": {
      "image/png": "[encoded data removed]",
      "text/plain": [
       "<Figure size 432x288 with 1 Axes>"
      ]
     },
     "metadata": {
      "needs_background": "light"
     },
     "output_type": "display_data"
    }
   ],
   "source": [
    "# Histogram of mean values of each pixel\n",
    "histogram, bin_edges= np.histogram(pixels_mn_red,bins=20)\n",
    "plt.plot(bin_edges[0:-1],histogram)\n",
    "plt.title(\"Melanocytic Nevi Reduced Dataset Histogram\")\n",
    "plt.xlabel('Pixel Intensity')\n",
    "plt.ylabel(\"pixels\")\n",
    "plt.show()"
   ]
  },
  {
   "cell_type": "code",
   "execution_count": 99,
   "metadata": {},
   "outputs": [
    {
     "data": {
      "text/plain": [
       "5.353807204453152"
      ]
     },
     "execution_count": 99,
     "metadata": {},
     "output_type": "execute_result"
    }
   ],
   "source": [
    "#Find kurtosis of the histogram\n",
    "kurt_mn_red = kurtosis(pixels_mn_red, fisher=False)\n",
    "kurt_mn_red"
   ]
  },
  {
   "cell_type": "code",
   "execution_count": 100,
   "metadata": {},
   "outputs": [
    {
     "data": {
      "text/plain": [
       "-1.7341806731514338"
      ]
     },
     "execution_count": 100,
     "metadata": {},
     "output_type": "execute_result"
    }
   ],
   "source": [
    "#Find Skewness of the histogram\n",
    "skew_mn_red = skew(pixels_mn_red)\n",
    "skew_mn_red"
   ]
  },
  {
   "cell_type": "code",
   "execution_count": 37,
   "metadata": {},
   "outputs": [
    {
     "data": {
      "image/png": "[encoded data removed]",
      "text/plain": [
       "<Figure size 432x288 with 1 Axes>"
      ]
     },
     "metadata": {
      "needs_background": "light"
     },
     "output_type": "display_data"
    }
   ],
   "source": [
    "#Create a box plot\n",
    "plt.boxplot(pixels_mn)\n",
    "plt.title(\"Monocytic Nevi on Reduced Dataset Boxplot\")\n",
    "plt.xlabel('Pixel Intensity')\n",
    "plt.ylabel(\"pixels\")\n",
    "plt.show()"
   ]
  },
  {
   "cell_type": "code",
   "execution_count": 101,
   "metadata": {},
   "outputs": [
    {
     "data": {
      "text/plain": [
       "(151.13675, 165.10825)"
      ]
     },
     "execution_count": 101,
     "metadata": {},
     "output_type": "execute_result"
    }
   ],
   "source": [
    "# Computing 1st and 3rd Quartile\n",
    "Q1_mn_red = pixels_mn_red.quantile(0.25)\n",
    "Q3_mn_red = pixels_mn_red.quantile(0.75)\n",
    "\n",
    "Q1_mn_red,Q3_mn_red\n"
   ]
  },
  {
   "cell_type": "code",
   "execution_count": 102,
   "metadata": {},
   "outputs": [
    {
     "data": {
      "text/plain": [
       "154.6677193877551"
      ]
     },
     "execution_count": 102,
     "metadata": {},
     "output_type": "execute_result"
    }
   ],
   "source": [
    "#Computing mean\n",
    "mean_mn_red = statistics.mean(pixels_mn_red)\n",
    "mean_mn_red"
   ]
  },
  {
   "cell_type": "code",
   "execution_count": 103,
   "metadata": {},
   "outputs": [
    {
     "data": {
      "text/plain": [
       "16.60872251734207"
      ]
     },
     "execution_count": 103,
     "metadata": {},
     "output_type": "execute_result"
    }
   ],
   "source": [
    "#Computing Standard Deviation\n",
    "sd_mn_red = statistics.stdev(pixels_mn_red)\n",
    "sd_mn_red"
   ]
  },
  {
   "cell_type": "markdown",
   "metadata": {},
   "source": [
    "## Melanoma\n",
    "\n"
   ]
  },
  {
   "cell_type": "code",
   "execution_count": 41,
   "metadata": {},
   "outputs": [
    {
     "data": {
      "text/html": [
       "<div>\n",
       "<style scoped>\n",
       "    .dataframe tbody tr th:only-of-type {\n",
       "        vertical-align: middle;\n",
       "    }\n",
       "\n",
       "    .dataframe tbody tr th {\n",
       "        vertical-align: top;\n",
       "    }\n",
       "\n",
       "    .dataframe thead th {\n",
       "        text-align: right;\n",
       "    }\n",
       "</style>\n",
       "<table border=\"1\" class=\"dataframe\">\n",
       "  <thead>\n",
       "    <tr style=\"text-align: right;\">\n",
       "      <th></th>\n",
       "      <th>pixel0000</th>\n",
       "      <th>pixel0001</th>\n",
       "      <th>pixel0002</th>\n",
       "      <th>pixel0003</th>\n",
       "      <th>pixel0004</th>\n",
       "      <th>pixel0005</th>\n",
       "      <th>pixel0006</th>\n",
       "      <th>pixel0007</th>\n",
       "      <th>pixel0008</th>\n",
       "      <th>pixel0009</th>\n",
       "      <th>...</th>\n",
       "      <th>pixel0775</th>\n",
       "      <th>pixel0776</th>\n",
       "      <th>pixel0777</th>\n",
       "      <th>pixel0778</th>\n",
       "      <th>pixel0779</th>\n",
       "      <th>pixel0780</th>\n",
       "      <th>pixel0781</th>\n",
       "      <th>pixel0782</th>\n",
       "      <th>pixel0783</th>\n",
       "      <th>label</th>\n",
       "    </tr>\n",
       "  </thead>\n",
       "  <tbody>\n",
       "    <tr>\n",
       "      <th>count</th>\n",
       "      <td>1113.000000</td>\n",
       "      <td>1113.000000</td>\n",
       "      <td>1113.000000</td>\n",
       "      <td>1113.000000</td>\n",
       "      <td>1113.000000</td>\n",
       "      <td>1113.000000</td>\n",
       "      <td>1113.000000</td>\n",
       "      <td>1113.000000</td>\n",
       "      <td>1113.000000</td>\n",
       "      <td>1113.000000</td>\n",
       "      <td>...</td>\n",
       "      <td>1113.000000</td>\n",
       "      <td>1113.000000</td>\n",
       "      <td>1113.000000</td>\n",
       "      <td>1113.000000</td>\n",
       "      <td>1113.000000</td>\n",
       "      <td>1113.000000</td>\n",
       "      <td>1113.000000</td>\n",
       "      <td>1113.000000</td>\n",
       "      <td>1113.000000</td>\n",
       "      <td>1113.0</td>\n",
       "    </tr>\n",
       "    <tr>\n",
       "      <th>mean</th>\n",
       "      <td>124.917341</td>\n",
       "      <td>134.283917</td>\n",
       "      <td>143.216532</td>\n",
       "      <td>149.942498</td>\n",
       "      <td>155.674753</td>\n",
       "      <td>160.734052</td>\n",
       "      <td>164.639712</td>\n",
       "      <td>167.229111</td>\n",
       "      <td>168.595687</td>\n",
       "      <td>169.725966</td>\n",
       "      <td>...</td>\n",
       "      <td>166.713387</td>\n",
       "      <td>165.237197</td>\n",
       "      <td>163.253369</td>\n",
       "      <td>160.430368</td>\n",
       "      <td>156.126685</td>\n",
       "      <td>149.589398</td>\n",
       "      <td>141.782570</td>\n",
       "      <td>132.428571</td>\n",
       "      <td>122.437556</td>\n",
       "      <td>6.0</td>\n",
       "    </tr>\n",
       "    <tr>\n",
       "      <th>std</th>\n",
       "      <td>61.334459</td>\n",
       "      <td>56.969908</td>\n",
       "      <td>51.043736</td>\n",
       "      <td>45.695724</td>\n",
       "      <td>40.033015</td>\n",
       "      <td>34.285608</td>\n",
       "      <td>30.644435</td>\n",
       "      <td>29.110040</td>\n",
       "      <td>28.467482</td>\n",
       "      <td>27.819101</td>\n",
       "      <td>...</td>\n",
       "      <td>27.768888</td>\n",
       "      <td>28.256873</td>\n",
       "      <td>29.385532</td>\n",
       "      <td>30.864796</td>\n",
       "      <td>34.597157</td>\n",
       "      <td>41.859878</td>\n",
       "      <td>49.161342</td>\n",
       "      <td>56.031294</td>\n",
       "      <td>61.502924</td>\n",
       "      <td>0.0</td>\n",
       "    </tr>\n",
       "    <tr>\n",
       "      <th>min</th>\n",
       "      <td>0.000000</td>\n",
       "      <td>0.000000</td>\n",
       "      <td>0.000000</td>\n",
       "      <td>0.000000</td>\n",
       "      <td>3.000000</td>\n",
       "      <td>10.000000</td>\n",
       "      <td>25.000000</td>\n",
       "      <td>29.000000</td>\n",
       "      <td>33.000000</td>\n",
       "      <td>26.000000</td>\n",
       "      <td>...</td>\n",
       "      <td>4.000000</td>\n",
       "      <td>4.000000</td>\n",
       "      <td>5.000000</td>\n",
       "      <td>3.000000</td>\n",
       "      <td>4.000000</td>\n",
       "      <td>0.000000</td>\n",
       "      <td>1.000000</td>\n",
       "      <td>0.000000</td>\n",
       "      <td>0.000000</td>\n",
       "      <td>6.0</td>\n",
       "    </tr>\n",
       "    <tr>\n",
       "      <th>25%</th>\n",
       "      <td>99.000000</td>\n",
       "      <td>115.000000</td>\n",
       "      <td>125.000000</td>\n",
       "      <td>134.000000</td>\n",
       "      <td>141.000000</td>\n",
       "      <td>144.000000</td>\n",
       "      <td>147.000000</td>\n",
       "      <td>148.000000</td>\n",
       "      <td>151.000000</td>\n",
       "      <td>153.000000</td>\n",
       "      <td>...</td>\n",
       "      <td>149.000000</td>\n",
       "      <td>148.000000</td>\n",
       "      <td>145.000000</td>\n",
       "      <td>142.000000</td>\n",
       "      <td>138.000000</td>\n",
       "      <td>132.000000</td>\n",
       "      <td>124.000000</td>\n",
       "      <td>112.000000</td>\n",
       "      <td>91.000000</td>\n",
       "      <td>6.0</td>\n",
       "    </tr>\n",
       "    <tr>\n",
       "      <th>50%</th>\n",
       "      <td>141.000000</td>\n",
       "      <td>148.000000</td>\n",
       "      <td>153.000000</td>\n",
       "      <td>156.000000</td>\n",
       "      <td>160.000000</td>\n",
       "      <td>163.000000</td>\n",
       "      <td>166.000000</td>\n",
       "      <td>168.000000</td>\n",
       "      <td>170.000000</td>\n",
       "      <td>170.000000</td>\n",
       "      <td>...</td>\n",
       "      <td>166.000000</td>\n",
       "      <td>165.000000</td>\n",
       "      <td>164.000000</td>\n",
       "      <td>162.000000</td>\n",
       "      <td>158.000000</td>\n",
       "      <td>154.000000</td>\n",
       "      <td>150.000000</td>\n",
       "      <td>145.000000</td>\n",
       "      <td>139.000000</td>\n",
       "      <td>6.0</td>\n",
       "    </tr>\n",
       "    <tr>\n",
       "      <th>75%</th>\n",
       "      <td>170.000000</td>\n",
       "      <td>174.000000</td>\n",
       "      <td>178.000000</td>\n",
       "      <td>179.000000</td>\n",
       "      <td>181.000000</td>\n",
       "      <td>182.000000</td>\n",
       "      <td>185.000000</td>\n",
       "      <td>186.000000</td>\n",
       "      <td>186.000000</td>\n",
       "      <td>186.000000</td>\n",
       "      <td>...</td>\n",
       "      <td>184.000000</td>\n",
       "      <td>183.000000</td>\n",
       "      <td>182.000000</td>\n",
       "      <td>181.000000</td>\n",
       "      <td>179.000000</td>\n",
       "      <td>177.000000</td>\n",
       "      <td>175.000000</td>\n",
       "      <td>172.000000</td>\n",
       "      <td>169.000000</td>\n",
       "      <td>6.0</td>\n",
       "    </tr>\n",
       "    <tr>\n",
       "      <th>max</th>\n",
       "      <td>245.000000</td>\n",
       "      <td>245.000000</td>\n",
       "      <td>246.000000</td>\n",
       "      <td>250.000000</td>\n",
       "      <td>247.000000</td>\n",
       "      <td>249.000000</td>\n",
       "      <td>247.000000</td>\n",
       "      <td>249.000000</td>\n",
       "      <td>254.000000</td>\n",
       "      <td>252.000000</td>\n",
       "      <td>...</td>\n",
       "      <td>254.000000</td>\n",
       "      <td>254.000000</td>\n",
       "      <td>252.000000</td>\n",
       "      <td>251.000000</td>\n",
       "      <td>253.000000</td>\n",
       "      <td>245.000000</td>\n",
       "      <td>243.000000</td>\n",
       "      <td>235.000000</td>\n",
       "      <td>234.000000</td>\n",
       "      <td>6.0</td>\n",
       "    </tr>\n",
       "  </tbody>\n",
       "</table>\n",
       "<p>8 rows × 785 columns</p>\n",
       "</div>"
      ],
      "text/plain": [
       "         pixel0000    pixel0001    pixel0002    pixel0003    pixel0004  \\\n",
       "count  1113.000000  1113.000000  1113.000000  1113.000000  1113.000000   \n",
       "mean    124.917341   134.283917   143.216532   149.942498   155.674753   \n",
       "std      61.334459    56.969908    51.043736    45.695724    40.033015   \n",
       "min       0.000000     0.000000     0.000000     0.000000     3.000000   \n",
       "25%      99.000000   115.000000   125.000000   134.000000   141.000000   \n",
       "50%     141.000000   148.000000   153.000000   156.000000   160.000000   \n",
       "75%     170.000000   174.000000   178.000000   179.000000   181.000000   \n",
       "max     245.000000   245.000000   246.000000   250.000000   247.000000   \n",
       "\n",
       "         pixel0005    pixel0006    pixel0007    pixel0008    pixel0009  ...  \\\n",
       "count  1113.000000  1113.000000  1113.000000  1113.000000  1113.000000  ...   \n",
       "mean    160.734052   164.639712   167.229111   168.595687   169.725966  ...   \n",
       "std      34.285608    30.644435    29.110040    28.467482    27.819101  ...   \n",
       "min      10.000000    25.000000    29.000000    33.000000    26.000000  ...   \n",
       "25%     144.000000   147.000000   148.000000   151.000000   153.000000  ...   \n",
       "50%     163.000000   166.000000   168.000000   170.000000   170.000000  ...   \n",
       "75%     182.000000   185.000000   186.000000   186.000000   186.000000  ...   \n",
       "max     249.000000   247.000000   249.000000   254.000000   252.000000  ...   \n",
       "\n",
       "         pixel0775    pixel0776    pixel0777    pixel0778    pixel0779  \\\n",
       "count  1113.000000  1113.000000  1113.000000  1113.000000  1113.000000   \n",
       "mean    166.713387   165.237197   163.253369   160.430368   156.126685   \n",
       "std      27.768888    28.256873    29.385532    30.864796    34.597157   \n",
       "min       4.000000     4.000000     5.000000     3.000000     4.000000   \n",
       "25%     149.000000   148.000000   145.000000   142.000000   138.000000   \n",
       "50%     166.000000   165.000000   164.000000   162.000000   158.000000   \n",
       "75%     184.000000   183.000000   182.000000   181.000000   179.000000   \n",
       "max     254.000000   254.000000   252.000000   251.000000   253.000000   \n",
       "\n",
       "         pixel0780    pixel0781    pixel0782    pixel0783   label  \n",
       "count  1113.000000  1113.000000  1113.000000  1113.000000  1113.0  \n",
       "mean    149.589398   141.782570   132.428571   122.437556     6.0  \n",
       "std      41.859878    49.161342    56.031294    61.502924     0.0  \n",
       "min       0.000000     1.000000     0.000000     0.000000     6.0  \n",
       "25%     132.000000   124.000000   112.000000    91.000000     6.0  \n",
       "50%     154.000000   150.000000   145.000000   139.000000     6.0  \n",
       "75%     177.000000   175.000000   172.000000   169.000000     6.0  \n",
       "max     245.000000   243.000000   235.000000   234.000000     6.0  \n",
       "\n",
       "[8 rows x 785 columns]"
      ]
     },
     "execution_count": 41,
     "metadata": {},
     "output_type": "execute_result"
    }
   ],
   "source": [
    "# Get descriptive statistsics on melanoma dataset\n",
    "\n",
    "df_melanoma.describe()"
   ]
  },
  {
   "cell_type": "code",
   "execution_count": 42,
   "metadata": {},
   "outputs": [
    {
     "data": {
      "text/plain": [
       "pixel0000    124.917341\n",
       "pixel0001    134.283917\n",
       "pixel0002    143.216532\n",
       "pixel0003    149.942498\n",
       "pixel0004    155.674753\n",
       "                ...    \n",
       "pixel0780    149.589398\n",
       "pixel0781    141.782570\n",
       "pixel0782    132.428571\n",
       "pixel0783    122.437556\n",
       "label          6.000000\n",
       "Length: 785, dtype: float64"
      ]
     },
     "execution_count": 42,
     "metadata": {},
     "output_type": "execute_result"
    }
   ],
   "source": [
    "#pick up the means for each pixel\n",
    "av_melanoma=df_melanoma.mean(axis=0)\n",
    "av_melanoma"
   ]
  },
  {
   "cell_type": "code",
   "execution_count": 43,
   "metadata": {},
   "outputs": [
    {
     "data": {
      "text/plain": [
       "pixel0000    124.917341\n",
       "pixel0001    134.283917\n",
       "pixel0002    143.216532\n",
       "pixel0003    149.942498\n",
       "pixel0004    155.674753\n",
       "                ...    \n",
       "pixel0779    156.126685\n",
       "pixel0780    149.589398\n",
       "pixel0781    141.782570\n",
       "pixel0782    132.428571\n",
       "pixel0783    122.437556\n",
       "Length: 784, dtype: float64"
      ]
     },
     "execution_count": 43,
     "metadata": {},
     "output_type": "execute_result"
    }
   ],
   "source": [
    "#get rid of the label column\n",
    "pixels_melanoma=av_melanoma[0:784]\n",
    "pixels_melanoma"
   ]
  },
  {
   "cell_type": "code",
   "execution_count": 44,
   "metadata": {},
   "outputs": [
    {
     "data": {
      "image/png": "[encoded data removed]",
      "text/plain": [
       "<Figure size 432x288 with 1 Axes>"
      ]
     },
     "metadata": {
      "needs_background": "light"
     },
     "output_type": "display_data"
    }
   ],
   "source": [
    "# Histogram of mean values of each pixel\n",
    "histogram, bin_edges= np.histogram(pixels_melanoma,bins=20)\n",
    "plt.plot(bin_edges[0:-1],histogram)\n",
    "plt.title(\"Melanoma Histogram\")\n",
    "plt.xlabel('Pixel Intensity')\n",
    "plt.ylabel(\"pixels\")\n",
    "plt.show()"
   ]
  },
  {
   "cell_type": "code",
   "execution_count": 104,
   "metadata": {},
   "outputs": [
    {
     "data": {
      "text/plain": [
       "3.869226216731156"
      ]
     },
     "execution_count": 104,
     "metadata": {},
     "output_type": "execute_result"
    }
   ],
   "source": [
    "#Find kurtosis of the histogram\n",
    "kurt_mel = kurtosis(pixels_melanoma, fisher=False)\n",
    "kurt_mel"
   ]
  },
  {
   "cell_type": "code",
   "execution_count": 105,
   "metadata": {},
   "outputs": [
    {
     "data": {
      "text/plain": [
       "-1.3087868472906514"
      ]
     },
     "execution_count": 105,
     "metadata": {},
     "output_type": "execute_result"
    }
   ],
   "source": [
    "#Find Skewness of the histogram\n",
    "skew_mel = skew(pixels_melanoma)\n",
    "skew_mel"
   ]
  },
  {
   "cell_type": "code",
   "execution_count": 47,
   "metadata": {},
   "outputs": [
    {
     "data": {
      "image/png": "[encoded data removed]",
      "text/plain": [
       "<Figure size 432x288 with 1 Axes>"
      ]
     },
     "metadata": {
      "needs_background": "light"
     },
     "output_type": "display_data"
    }
   ],
   "source": [
    "#Create a box plot\n",
    "plt.boxplot(pixels_melanoma)\n",
    "plt.title(\"Melanoma Boxplot\")\n",
    "plt.xlabel('Pixel Intensity')\n",
    "plt.ylabel(\"pixels\")\n",
    "plt.show()"
   ]
  },
  {
   "cell_type": "code",
   "execution_count": 106,
   "metadata": {},
   "outputs": [
    {
     "data": {
      "text/plain": [
       "(141.76212938005392, 163.15790655884996)"
      ]
     },
     "execution_count": 106,
     "metadata": {},
     "output_type": "execute_result"
    }
   ],
   "source": [
    "# Computing 1st and 3rd Quartile\n",
    "Q1_mel = pixels_melanoma.quantile(0.25)\n",
    "Q3_mel = pixels_melanoma.quantile(0.75)\n",
    "\n",
    "Q1_mel,Q3_mel\n"
   ]
  },
  {
   "cell_type": "code",
   "execution_count": 107,
   "metadata": {},
   "outputs": [
    {
     "data": {
      "text/plain": [
       "150.20319232814418"
      ]
     },
     "execution_count": 107,
     "metadata": {},
     "output_type": "execute_result"
    }
   ],
   "source": [
    "#Computing mean\n",
    "mean_mel = statistics.mean(pixels_melanoma)\n",
    "mean_mel"
   ]
  },
  {
   "cell_type": "code",
   "execution_count": 108,
   "metadata": {},
   "outputs": [
    {
     "data": {
      "text/plain": [
       "18.510582133315243"
      ]
     },
     "execution_count": 108,
     "metadata": {},
     "output_type": "execute_result"
    }
   ],
   "source": [
    "#Computing SD\n",
    "\n",
    "sd_mel = statistics.stdev(pixels_melanoma)\n",
    "sd_mel"
   ]
  },
  {
   "cell_type": "markdown",
   "metadata": {},
   "source": [
    "## SUMMARY OF FIRST ORDER STATISTICS\n",
    "Lets now summarize all of this by putting boxplots for all 4 classes of diagnosis side by side so we can visualize means and create a table for all the statistsics we calculated:"
   ]
  },
  {
   "cell_type": "code",
   "execution_count": 51,
   "metadata": {},
   "outputs": [
    {
     "data": {
      "image/png": "[encoded data removed]",
      "text/plain": [
       "<Figure size 1440x432 with 4 Axes>"
      ]
     },
     "metadata": {
      "needs_background": "light"
     },
     "output_type": "display_data"
    }
   ],
   "source": [
    "#Put all boxplots dide by side and on the same Y axis scale\n",
    "\n",
    "plt.rcParams[\"figure.figsize\"] = (20,6)\n",
    "\n",
    "\n",
    "plt.subplot(1, 4, 1) # row , col 2 index 1\n",
    "plt.boxplot(pixels_carc, showfliers=False)\n",
    "plt.ylim([100, 180])\n",
    "plt.title(\"Carcinoma Boxplot\")\n",
    "plt.xlabel('Pixel Intensity')\n",
    "plt.ylabel(\"pixels\")\n",
    "\n",
    "\n",
    "plt.subplot(1, 4, 2) # index 2\n",
    "plt.boxplot(pixels_melanoma, showfliers=False)\n",
    "plt.ylim([100, 180])\n",
    "plt.title(\"Melanoma Boxplot\")\n",
    "plt.xlabel('Pixel Intensity')\n",
    "plt.ylabel(\"pixels\")\n",
    "\n",
    "plt.subplot(1, 4, 3) # index 3\n",
    "plt.boxplot(pixels_bkl, showfliers=False)\n",
    "plt.ylim([100, 180])\n",
    "plt.title(\"Benign Keratosis Boxplot\")\n",
    "plt.xlabel('Pixel Intensity')\n",
    "plt.ylabel(\"pixels\")\n",
    "\n",
    "plt.subplot(1, 4, 4) # index 4\n",
    "plt.boxplot(pixels_mn_red, showfliers=False)\n",
    "plt.ylim([100, 180])\n",
    "plt.title(\"Monocytic Nevi on Reduced Dataset Boxplot\")\n",
    "plt.xlabel('Pixel Intensity')\n",
    "plt.ylabel(\"pixels\")\n",
    "\n",
    "plt.show()"
   ]
  },
  {
   "cell_type": "code",
   "execution_count": 129,
   "metadata": {},
   "outputs": [
    {
     "name": "stdout",
     "output_type": "stream",
     "text": [
      "+----+--------------------+------------------------+--------------------+-----------------------------+------------+\n",
      "|    | parameters         |   Basal Cell Carcinoma |   Benign Keratosis |   Melanocytic Nevi - Sample |   Melanoma |\n",
      "|----+--------------------+------------------------+--------------------+-----------------------------+------------|\n",
      "|  0 | Mean               |              167.861   |          151.448   |                   154.668   |  150.203   |\n",
      "|  1 | Standard Deviation |                8.62255 |           10.7458  |                    16.6087  |   18.5106  |\n",
      "|  2 | Q1                 |              164.332   |          146.003   |                   151.137   |  141.762   |\n",
      "|  3 | Q3                 |              174.028   |          159.012   |                   165.108   |  163.158   |\n",
      "|  4 | Kurtosis           |                4.39692 |            3.40538 |                     5.35381 |    3.86923 |\n",
      "|  5 | Skewness           |               -1.36185 |           -1.07541 |                    -1.73418 |   -1.30879 |\n",
      "+----+--------------------+------------------------+--------------------+-----------------------------+------------+\n"
     ]
    }
   ],
   "source": [
    "from tabulate import tabulate\n",
    "\n",
    "first_stats = pd.DataFrame({'parameters' : ['Mean', 'Standard Deviation','Q1', 'Q3','Kurtosis', 'Skewness'],\n",
    "                            'Basal Cell Carcinoma' : [mean_carc, sd_carc, Q1_carc, Q3_carc, kurt_carc, skew_carc],\n",
    "                            'Benign Keratosis': [mean_bkl, sd_bkl, Q1_bkl, Q3_bkl, kurt_bkl, skew_bkl],\n",
    "                            'Melanocytic Nevi - Sample': [mean_mn_red, sd_mn_red,Q1_mn_red, Q3_mn_red, kurt_mn_red, skew_mn_red],\n",
    "                            'Melanoma': [mean_mel, sd_mel, Q1_mel, Q3_mel, kurt_mel, skew_mel]})\n",
    "print(tabulate(first_stats, headers='keys', tablefmt='psql'))\n"
   ]
  },
  {
   "cell_type": "markdown",
   "metadata": {},
   "source": [
    "From the boxplots and the table with first order statistics we can see that there are differences betwwen different diagnosis in terms of pixel intensity.  However, we wanted to confirm this using proper statistical test. We would have used t test to compare the means between different groups but the distribution may not be normal.  We chose Wilcoxon- Whitney test instead.  The null hypothesis is that the distributions in the two groups are the same.  We therefore take two by two groups and compare them."
   ]
  },
  {
   "cell_type": "code",
   "execution_count": 130,
   "metadata": {},
   "outputs": [
    {
     "data": {
      "text/plain": [
       "MannwhitneyuResult(statistic=89119.0, pvalue=3.628136439775806e-131)"
      ]
     },
     "execution_count": 130,
     "metadata": {},
     "output_type": "execute_result"
    }
   ],
   "source": [
    "# Comparisons using Wilcoxon–Mann–Whitney test\n",
    "\n",
    "from scipy.stats import mannwhitneyu\n",
    "\n",
    "# Melanoma vs Basal Cell Skin Carcinoma\n",
    "melanoma_carc = mannwhitneyu(pixels_melanoma, pixels_carc)\n",
    "melanoma_carc"
   ]
  },
  {
   "cell_type": "code",
   "execution_count": 53,
   "metadata": {},
   "outputs": [
    {
     "data": {
      "text/plain": [
       "MannwhitneyuResult(statistic=198638.0, pvalue=3.9344390134591405e-34)"
      ]
     },
     "execution_count": 53,
     "metadata": {},
     "output_type": "execute_result"
    }
   ],
   "source": [
    "# Benign Keratosis vs Melanocytic Nevi\n",
    "bkl_mn = mannwhitneyu(pixels_bkl, pixels_mn_red)\n",
    "bkl_mn"
   ]
  },
  {
   "cell_type": "code",
   "execution_count": 54,
   "metadata": {},
   "outputs": [
    {
     "data": {
      "text/plain": [
       "MannwhitneyuResult(statistic=270796.0, pvalue=2.3004407339897735e-05)"
      ]
     },
     "execution_count": 54,
     "metadata": {},
     "output_type": "execute_result"
    }
   ],
   "source": [
    "# Melanocytic Nevi Full Set vs Sample\n",
    "mn_mn_red = mannwhitneyu(pixels_mn, pixels_mn_red)\n",
    "mn_mn_red"
   ]
  },
  {
   "cell_type": "code",
   "execution_count": 55,
   "metadata": {},
   "outputs": [
    {
     "data": {
      "text/plain": [
       "MannwhitneyuResult(statistic=267311.0, pvalue=4.02642629653657e-06)"
      ]
     },
     "execution_count": 55,
     "metadata": {},
     "output_type": "execute_result"
    }
   ],
   "source": [
    "#Melanoma Vs Benign Keratosis\n",
    "melanoma_bkl = mannwhitneyu(pixels_melanoma, pixels_bkl)\n",
    "melanoma_bkl"
   ]
  },
  {
   "cell_type": "markdown",
   "metadata": {},
   "source": [
    "We can see from the WMW test that p values are really small for all combinations tested which leads us to reject the null hypothesis and conclude that the difference in distribution is different for different diagnosis.  The difference is also significant beetween the two types of malignant conditions which is why we decided against lumping up togeether the two malignant and two benign conditions and only doing the classification between malignant vs benign."
   ]
  },
  {
   "cell_type": "markdown",
   "metadata": {},
   "source": [
    "## FEATURE SELECTION"
   ]
  },
  {
   "cell_type": "code",
   "execution_count": 56,
   "metadata": {},
   "outputs": [
    {
     "data": {
      "image/png": "[encoded data removed]",
      "text/plain": [
       "<Figure size 1440x432 with 1 Axes>"
      ]
     },
     "metadata": {
      "needs_background": "light"
     },
     "output_type": "display_data"
    }
   ],
   "source": [
    "#import image\n",
    "test_image=plt.imread('ISIC_0024306.jpeg')\n",
    "test_plot=plt.imshow(test_image)\n",
    "plt.show()"
   ]
  },
  {
   "cell_type": "code",
   "execution_count": 132,
   "metadata": {},
   "outputs": [
    {
     "data": {
      "text/plain": [
       "array([[142, 144, 140, ..., 152, 144, 145],\n",
       "       [144, 142, 139, ..., 152, 148, 148],\n",
       "       [144, 142, 138, ..., 154, 155, 150],\n",
       "       ...,\n",
       "       [132, 132, 131, ..., 153, 149, 146],\n",
       "       [131, 132, 132, ..., 151, 148, 147],\n",
       "       [130, 129, 133, ..., 151, 149, 146]], dtype=uint8)"
      ]
     },
     "execution_count": 132,
     "metadata": {},
     "output_type": "execute_result"
    }
   ],
   "source": [
    "#resize the image and turn it into grayscale\n",
    "\n",
    "image = cv2.resize(test_image,(100,100),interpolation = cv2.INTER_AREA)\n",
    "img = cv2.cvtColor(image, cv2.COLOR_BGR2GRAY)\n",
    "img   "
   ]
  },
  {
   "cell_type": "code",
   "execution_count": 59,
   "metadata": {},
   "outputs": [
    {
     "data": {
      "image/png": "[encoded data removed]",
      "text/plain": [
       "<Figure size 1440x432 with 1 Axes>"
      ]
     },
     "metadata": {
      "needs_background": "light"
     },
     "output_type": "display_data"
    }
   ],
   "source": [
    "#take a look at the grayscale image\n",
    "gray_plot=plt.imshow(img)\n",
    "plt.show()"
   ]
  },
  {
   "cell_type": "code",
   "execution_count": 134,
   "metadata": {},
   "outputs": [
    {
     "data": {
      "image/png": "[encoded data removed]",
      "text/plain": [
       "<Figure size 1440x432 with 1 Axes>"
      ]
     },
     "metadata": {
      "needs_background": "light"
     },
     "output_type": "display_data"
    }
   ],
   "source": [
    "#plot a histogram of the pixel intensity \n",
    "plt.hist(img.ravel(), bins=255)\n",
    "plt.show()"
   ]
  },
  {
   "cell_type": "markdown",
   "metadata": {},
   "source": [
    "### Experiment with different filtering techniques to separate the background (skin) and the area of interest (AOI -lesion)\n",
    "\n",
    "Several different techniques were tried including sift, adaptive mean thresholding, Denoising, Lapliacian gausian filter and thresholding.  The best results were achieved with thresholding as presented below on the same image used above:\n"
   ]
  },
  {
   "cell_type": "code",
   "execution_count": null,
   "metadata": {},
   "outputs": [],
   "source": [
    "#import libraries\n",
    "import skimage.io\n",
    "import skimage.color\n",
    "import skimage.filters"
   ]
  },
  {
   "cell_type": "code",
   "execution_count": 135,
   "metadata": {},
   "outputs": [
    {
     "data": {
      "image/png": "[encoded data removed]",
      "text/plain": [
       "<Figure size 1440x432 with 1 Axes>"
      ]
     },
     "metadata": {
      "needs_background": "light"
     },
     "output_type": "display_data"
    }
   ],
   "source": [
    "#Convert the image grayscale\n",
    "gray_img=skimage.color.rgb2gray(image)\n",
    "#blur the image to denoise\n",
    "blurred_image=skimage.filters.gaussian(gray_img,sigma=1.0)\n",
    "#Plot preprocessed image\n",
    "fig,ax=plt.subplots()\n",
    "plt.imshow(blurred_image,cmap='gray')\n",
    "plt.show()"
   ]
  },
  {
   "cell_type": "code",
   "execution_count": 136,
   "metadata": {},
   "outputs": [
    {
     "data": {
      "image/png": "[encoded data removed]",
      "text/plain": [
       "<Figure size 1440x432 with 1 Axes>"
      ]
     },
     "metadata": {
      "needs_background": "light"
     },
     "output_type": "display_data"
    }
   ],
   "source": [
    "#Create a histogram of the blurred grascale image \n",
    "histogram, bin_edges= np.histogram(blurred_image,bins=256,range=(0.0,1.0))\n",
    "plt.plot(bin_edges[0:-1],histogram)\n",
    "plt.title(\"Grayscale Histogram\")\n",
    "plt.xlabel('grayscale value')\n",
    "plt.ylabel(\"pixels\")\n",
    "plt.xlim(0,1.0)\n",
    "plt.show()"
   ]
  },
  {
   "cell_type": "code",
   "execution_count": 137,
   "metadata": {},
   "outputs": [
    {
     "data": {
      "image/png": "[encoded data removed]",
      "text/plain": [
       "<Figure size 1440x432 with 1 Axes>"
      ]
     },
     "metadata": {
      "needs_background": "light"
     },
     "output_type": "display_data"
    }
   ],
   "source": [
    "#Create a mask based on the threshold \n",
    "t=0.34\n",
    "binary_mask=blurred_image<t\n",
    "fig,ax = plt.subplots()\n",
    "plt.imshow(binary_mask,cmap='gray')\n",
    "plt.show()"
   ]
  },
  {
   "cell_type": "code",
   "execution_count": 138,
   "metadata": {},
   "outputs": [
    {
     "data": {
      "image/png": "[encoded data removed]",
      "text/plain": [
       "<Figure size 1440x432 with 1 Axes>"
      ]
     },
     "metadata": {
      "needs_background": "light"
     },
     "output_type": "display_data"
    }
   ],
   "source": [
    "#use the binary mask to select the interesting part of the image \n",
    "selection=np.zeros_like(image)\n",
    "selection[binary_mask]=image[binary_mask]\n",
    "fig,ax=plt.subplots()\n",
    "plt.imshow(selection)\n",
    "plt.show()"
   ]
  },
  {
   "cell_type": "markdown",
   "metadata": {},
   "source": [
    "## GRAY LEVEL COOCURRANCE MATRIX"
   ]
  },
  {
   "cell_type": "code",
   "execution_count": 154,
   "metadata": {},
   "outputs": [],
   "source": [
    "# create patches \n",
    "\n",
    "PATCH_SIZE = 20\n",
    "\n",
    "# select some patches from skin areas of the image - on the image above pick up some coordinates corresponding to the black area\n",
    "skin_locations = [(20,85), (80,50), (15,15), (15,90)]\n",
    "skin_patches = []\n",
    "for loc in skin_locations:\n",
    "    skin_patches.append(img[loc[0]:loc[0] + PATCH_SIZE,\n",
    "                               loc[1]:loc[1] + PATCH_SIZE])\n",
    "\n",
    "# select some patches from AOI of the image - red area\n",
    "lesion_locations = [(50,50), (60,60), (60,40), (50,40)]\n",
    "lesion_patches = []\n",
    "for loc in lesion_locations:\n",
    "    lesion_patches.append(img[loc[0]:loc[0] + PATCH_SIZE,\n",
    "                             loc[1]:loc[1] + PATCH_SIZE])\n",
    "\n",
    "# compute some GLCM properties each patch\n",
    "diss_sim = []\n",
    "corr = []\n",
    "homogen = []\n",
    "energy = []\n",
    "contrast = []\n",
    "for patch in (skin_patches + lesion_patches):\n",
    "    glcm = greycomatrix(patch, distances=[2], angles=[0], levels=256,\n",
    "                        symmetric=True, normed=True)\n",
    "    diss_sim.append(greycoprops(glcm, 'dissimilarity')[0, 0])\n",
    "    corr.append(greycoprops(glcm, 'correlation')[0, 0])\n",
    "    homogen.append(greycoprops(glcm, 'homogeneity')[0, 0])\n",
    "    energy.append(greycoprops(glcm, 'energy')[0, 0])\n",
    "    contrast.append(greycoprops(glcm, 'contrast')[0, 0])\n",
    "\n",
    "\n",
    "    "
   ]
  },
  {
   "cell_type": "markdown",
   "metadata": {},
   "source": [
    "We will add these GLCM properties that we just calculated to a dataframe along with metadata.  For now we will just visualize how the sparation based on the texture works:"
   ]
  },
  {
   "cell_type": "code",
   "execution_count": 155,
   "metadata": {},
   "outputs": [
    {
     "data": {
      "image/png": "[encoded data removed]",
      "text/plain": [
       "<Figure size 576x576 with 10 Axes>"
      ]
     },
     "metadata": {
      "needs_background": "light"
     },
     "output_type": "display_data"
    }
   ],
   "source": [
    "fig = plt.figure(figsize=(8, 8))\n",
    "\n",
    "# display original image with locations of patches\n",
    "ax = fig.add_subplot(3, 2, 1)\n",
    "ax.imshow(img, cmap=plt.cm.gray,\n",
    "          vmin=0, vmax=255)\n",
    "for (y, x) in skin_locations:\n",
    "    ax.plot(x + PATCH_SIZE / 2, y + PATCH_SIZE / 2, 'gs')\n",
    "for (y, x) in lesion_locations:\n",
    "    ax.plot(x + PATCH_SIZE / 2, y + PATCH_SIZE / 2, 'bs')\n",
    "ax.set_xlabel('Original Image')\n",
    "ax.set_xticks([])\n",
    "ax.set_yticks([])\n",
    "ax.axis('image')\n",
    "\n",
    "# for each patch, plot (dissimilarity, correlation)\n",
    "ax = fig.add_subplot(3, 2, 2)\n",
    "ax.plot(diss_sim[:len(skin_patches)], corr[:len(skin_patches)], 'go',\n",
    "        label='Skin')\n",
    "ax.plot(diss_sim[len(skin_patches):], corr[len(skin_patches):], 'bo',\n",
    "        label='Lesion')\n",
    "ax.set_xlabel('GLCM Dissimilarity')\n",
    "ax.set_ylabel('GLCM Correlation')\n",
    "ax.legend()\n",
    "\n",
    "# display the image patches\n",
    "for i, patch in enumerate(skin_patches):\n",
    "    ax = fig.add_subplot(3, len(skin_patches), len(skin_patches)*1 + i + 1)\n",
    "    ax.imshow(patch, cmap=plt.cm.gray,\n",
    "              vmin=0, vmax=255)\n",
    "    ax.set_xlabel('Skin %d' % (i + 1))\n",
    "\n",
    "for i, patch in enumerate(lesion_patches):\n",
    "    ax = fig.add_subplot(3, len(lesion_patches), len(lesion_patches)*2 + i + 1)\n",
    "    ax.imshow(patch, cmap=plt.cm.gray,\n",
    "              vmin=0, vmax=255)\n",
    "    ax.set_xlabel('Lesion %d' % (i + 1))\n",
    "\n",
    "\n",
    "# display the patches and plot\n",
    "fig.suptitle('Grey level co-occurrence matrix features', fontsize=14, y=1.05)\n",
    "plt.tight_layout()\n",
    "plt.show()"
   ]
  },
  {
   "cell_type": "markdown",
   "metadata": {},
   "source": [
    "Based on the correlation vs dissimilarity plot we can see that we already have pretty good separation between skin and the lesion.  To improve, we can tweak the size of the patch, the angle and the distance between pixels compared.  This will be done in a loop when the whole dataset is merged.  Ultimately, the features selected through this process will  be used to run K-means."
   ]
  },
  {
   "cell_type": "markdown",
   "metadata": {},
   "source": [
    "References: <br>\n",
    "1. Marcos A. M. Almeida, and Iury A. X. Santos, Classification Models for Skin Tumor Detection Using Texture Analysis in Medical Images, Journal of Imaging,  Published: 19 June 2020 <br>\n",
    "2. P. Mohanaiah, P. Sathyanarayana, L. GuruKumar, Image Texture Feature Extraction Using GLCM Approach, International Journal of Scientific and Research Publications, Volume 3, Issue 5, May 2013 <br>\n",
    "3. S. Bhattiprolu, Python for Microscopists, taken from github and youtube, https://github.com/bnsreenu/python_for_microscopists <br>\n",
    "4. H. Castillejos-Fernándeza, O. López-Ortegaa, F. Castro-Espinozaa and V. Ponomaryovb, An Intelligent System for the Diagnosis of Skin Cancer on Digital Images taken with Dermoscopy, Acta Polytechnica Hungarica, Vol. 14, No. 3, 2017 <br>\n",
    "5. J. Hayes, Image Classification -Gray Level Co-Occurrence Matrix (GLCM), http://web.pdx.edu/~jduh/courses/Archive/geog481w07/Students/Hayes_GreyScaleCoOccurrenceMatrix.pdf, last accessed 10/30/21 "
   ]
  },
  {
   "cell_type": "markdown",
   "metadata": {},
   "source": [
    "Prepared by: Annie Li, Tanja Jancic-Turner, Jose Tellez and Chan Shek (Tom)"
   ]
  },
  {
   "cell_type": "code",
   "execution_count": null,
   "metadata": {},
   "outputs": [],
   "source": []
  }
 ],
 "metadata": {
  "kernelspec": {
   "display_name": "Python 3",
   "language": "python",
   "name": "python3"
  },
  "language_info": {
   "codemirror_mode": {
    "name": "ipython",
    "version": 3
   },
   "file_extension": ".py",
   "mimetype": "text/x-python",
   "name": "python",
   "nbconvert_exporter": "python",
   "pygments_lexer": "ipython3",
   "version": "3.8.5"
  }
 },
 "nbformat": 4,
 "nbformat_minor": 4
}
